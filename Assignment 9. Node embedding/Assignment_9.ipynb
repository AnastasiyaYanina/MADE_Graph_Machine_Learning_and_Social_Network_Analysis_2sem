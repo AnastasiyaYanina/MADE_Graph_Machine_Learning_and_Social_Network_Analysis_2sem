{
  "cells": [
    {
      "cell_type": "markdown",
      "metadata": {
        "id": "U9vhq-M0UuuW"
      },
      "source": [
        "# Assignment — Node embedding"
      ]
    },
    {
      "cell_type": "code",
      "execution_count": null,
      "metadata": {
        "id": "KcoKFKaQUuuu"
      },
      "outputs": [],
      "source": [
        "import numpy as np\n",
        "import requests\n",
        "from sklearn.metrics import f1_score\n",
        "from sklearn.decomposition import TruncatedSVD, PCA\n",
        "from time import time\n",
        "from tqdm.notebook import tqdm\n",
        "from sklearn.model_selection import train_test_split\n",
        "import pandas as pd\n",
        "from sklearn.ensemble import GradientBoostingClassifier\n",
        "import networkx as nx\n",
        "import matplotlib.pyplot as plt"
      ]
    },
    {
      "cell_type": "markdown",
      "metadata": {
        "id": "czsbj3C4Uuu3"
      },
      "source": [
        "### Cora dataset EDA"
      ]
    },
    {
      "cell_type": "markdown",
      "metadata": {
        "id": "UZ2sg2Y3Uuu5"
      },
      "source": [
        "The Cora dataset consists of 2708 scientific publications classified into one of seven classes. The citation network consists of 5429 links. Let us take a closer look at this dataset."
      ]
    },
    {
      "cell_type": "code",
      "execution_count": null,
      "metadata": {
        "id": "sXapETL1Uuu7"
      },
      "outputs": [],
      "source": [
        "url = 'https://raw.githubusercontent.com/netspractice/network-science/main/datasets/cora_cites.txt'\n",
        "open('cora_cites.txt', 'wb').write(requests.get(url).content)\n",
        "\n",
        "url = 'https://raw.githubusercontent.com/netspractice/network-science/main/datasets/cora_content.txt'\n",
        "open('cora_content.txt', 'wb').write(requests.get(url).content);"
      ]
    },
    {
      "cell_type": "markdown",
      "metadata": {
        "id": "gq_cC6QcUuu-"
      },
      "source": [
        "Number of nodes in the graph"
      ]
    },
    {
      "cell_type": "code",
      "execution_count": null,
      "metadata": {
        "id": "jte8lXs3UuvA",
        "colab": {
          "base_uri": "https://localhost:8080/"
        },
        "outputId": "23d2e837-977e-46be-c30c-d6ffb6077e9c"
      },
      "outputs": [
        {
          "output_type": "execute_result",
          "data": {
            "text/plain": [
              "2708"
            ]
          },
          "metadata": {},
          "execution_count": 3
        }
      ],
      "source": [
        "cora = nx.read_edgelist('cora_cites.txt')\n",
        "len(cora)"
      ]
    },
    {
      "cell_type": "markdown",
      "metadata": {
        "id": "Z3lWkUMpUuvF"
      },
      "source": [
        "Number of nodes in a gigantic connected component (GCC)"
      ]
    },
    {
      "cell_type": "code",
      "execution_count": null,
      "metadata": {
        "id": "pr3t-PzUUuvM",
        "colab": {
          "base_uri": "https://localhost:8080/"
        },
        "outputId": "ed9feb07-11d8-44f1-c633-62ef565d2fa9"
      },
      "outputs": [
        {
          "output_type": "execute_result",
          "data": {
            "text/plain": [
              "2485"
            ]
          },
          "metadata": {},
          "execution_count": 4
        }
      ],
      "source": [
        "gcc_nodes = sorted(list(nx.connected_components(cora)), \n",
        "                   key=lambda x: len(x))[-1]\n",
        "gcc_cora = cora.subgraph(gcc_nodes).copy()\n",
        "len(gcc_cora)"
      ]
    },
    {
      "cell_type": "markdown",
      "metadata": {
        "id": "yeeswPsEUuvP"
      },
      "source": [
        "Nodes content"
      ]
    },
    {
      "cell_type": "code",
      "execution_count": null,
      "metadata": {
        "id": "3N6SUu7YUuvR",
        "colab": {
          "base_uri": "https://localhost:8080/",
          "height": 237
        },
        "outputId": "bd2e04fd-25f8-4e94-d14e-83fb586084a8"
      },
      "outputs": [
        {
          "output_type": "execute_result",
          "data": {
            "text/plain": [
              "         1   2   3   4   5   6   7   8   9   10  11  12  13  14  15  16  17  \\\n",
              "node                                                                          \n",
              "31336     0   0   0   0   0   0   0   0   0   0   0   0   0   0   0   0   0   \n",
              "1061127   0   0   0   0   0   0   0   0   0   0   0   0   1   0   0   0   0   \n",
              "1106406   0   0   0   0   0   0   0   0   0   0   0   0   0   0   0   0   0   \n",
              "13195     0   0   0   0   0   0   0   0   0   0   0   0   0   0   0   0   0   \n",
              "37879     0   0   0   0   0   0   0   0   0   0   0   0   0   0   0   0   0   \n",
              "\n",
              "         18  19  20  \n",
              "node                 \n",
              "31336     0   0   0  \n",
              "1061127   0   0   0  \n",
              "1106406   0   0   0  \n",
              "13195     0   0   0  \n",
              "37879     0   0   0  "
            ],
            "text/html": [
              "\n",
              "  <div id=\"df-d400a462-c6ae-4573-a9e0-b36bb72c89ff\">\n",
              "    <div class=\"colab-df-container\">\n",
              "      <div>\n",
              "<style scoped>\n",
              "    .dataframe tbody tr th:only-of-type {\n",
              "        vertical-align: middle;\n",
              "    }\n",
              "\n",
              "    .dataframe tbody tr th {\n",
              "        vertical-align: top;\n",
              "    }\n",
              "\n",
              "    .dataframe thead th {\n",
              "        text-align: right;\n",
              "    }\n",
              "</style>\n",
              "<table border=\"1\" class=\"dataframe\">\n",
              "  <thead>\n",
              "    <tr style=\"text-align: right;\">\n",
              "      <th></th>\n",
              "      <th>1</th>\n",
              "      <th>2</th>\n",
              "      <th>3</th>\n",
              "      <th>4</th>\n",
              "      <th>5</th>\n",
              "      <th>6</th>\n",
              "      <th>7</th>\n",
              "      <th>8</th>\n",
              "      <th>9</th>\n",
              "      <th>10</th>\n",
              "      <th>11</th>\n",
              "      <th>12</th>\n",
              "      <th>13</th>\n",
              "      <th>14</th>\n",
              "      <th>15</th>\n",
              "      <th>16</th>\n",
              "      <th>17</th>\n",
              "      <th>18</th>\n",
              "      <th>19</th>\n",
              "      <th>20</th>\n",
              "    </tr>\n",
              "    <tr>\n",
              "      <th>node</th>\n",
              "      <th></th>\n",
              "      <th></th>\n",
              "      <th></th>\n",
              "      <th></th>\n",
              "      <th></th>\n",
              "      <th></th>\n",
              "      <th></th>\n",
              "      <th></th>\n",
              "      <th></th>\n",
              "      <th></th>\n",
              "      <th></th>\n",
              "      <th></th>\n",
              "      <th></th>\n",
              "      <th></th>\n",
              "      <th></th>\n",
              "      <th></th>\n",
              "      <th></th>\n",
              "      <th></th>\n",
              "      <th></th>\n",
              "      <th></th>\n",
              "    </tr>\n",
              "  </thead>\n",
              "  <tbody>\n",
              "    <tr>\n",
              "      <th>31336</th>\n",
              "      <td>0</td>\n",
              "      <td>0</td>\n",
              "      <td>0</td>\n",
              "      <td>0</td>\n",
              "      <td>0</td>\n",
              "      <td>0</td>\n",
              "      <td>0</td>\n",
              "      <td>0</td>\n",
              "      <td>0</td>\n",
              "      <td>0</td>\n",
              "      <td>0</td>\n",
              "      <td>0</td>\n",
              "      <td>0</td>\n",
              "      <td>0</td>\n",
              "      <td>0</td>\n",
              "      <td>0</td>\n",
              "      <td>0</td>\n",
              "      <td>0</td>\n",
              "      <td>0</td>\n",
              "      <td>0</td>\n",
              "    </tr>\n",
              "    <tr>\n",
              "      <th>1061127</th>\n",
              "      <td>0</td>\n",
              "      <td>0</td>\n",
              "      <td>0</td>\n",
              "      <td>0</td>\n",
              "      <td>0</td>\n",
              "      <td>0</td>\n",
              "      <td>0</td>\n",
              "      <td>0</td>\n",
              "      <td>0</td>\n",
              "      <td>0</td>\n",
              "      <td>0</td>\n",
              "      <td>0</td>\n",
              "      <td>1</td>\n",
              "      <td>0</td>\n",
              "      <td>0</td>\n",
              "      <td>0</td>\n",
              "      <td>0</td>\n",
              "      <td>0</td>\n",
              "      <td>0</td>\n",
              "      <td>0</td>\n",
              "    </tr>\n",
              "    <tr>\n",
              "      <th>1106406</th>\n",
              "      <td>0</td>\n",
              "      <td>0</td>\n",
              "      <td>0</td>\n",
              "      <td>0</td>\n",
              "      <td>0</td>\n",
              "      <td>0</td>\n",
              "      <td>0</td>\n",
              "      <td>0</td>\n",
              "      <td>0</td>\n",
              "      <td>0</td>\n",
              "      <td>0</td>\n",
              "      <td>0</td>\n",
              "      <td>0</td>\n",
              "      <td>0</td>\n",
              "      <td>0</td>\n",
              "      <td>0</td>\n",
              "      <td>0</td>\n",
              "      <td>0</td>\n",
              "      <td>0</td>\n",
              "      <td>0</td>\n",
              "    </tr>\n",
              "    <tr>\n",
              "      <th>13195</th>\n",
              "      <td>0</td>\n",
              "      <td>0</td>\n",
              "      <td>0</td>\n",
              "      <td>0</td>\n",
              "      <td>0</td>\n",
              "      <td>0</td>\n",
              "      <td>0</td>\n",
              "      <td>0</td>\n",
              "      <td>0</td>\n",
              "      <td>0</td>\n",
              "      <td>0</td>\n",
              "      <td>0</td>\n",
              "      <td>0</td>\n",
              "      <td>0</td>\n",
              "      <td>0</td>\n",
              "      <td>0</td>\n",
              "      <td>0</td>\n",
              "      <td>0</td>\n",
              "      <td>0</td>\n",
              "      <td>0</td>\n",
              "    </tr>\n",
              "    <tr>\n",
              "      <th>37879</th>\n",
              "      <td>0</td>\n",
              "      <td>0</td>\n",
              "      <td>0</td>\n",
              "      <td>0</td>\n",
              "      <td>0</td>\n",
              "      <td>0</td>\n",
              "      <td>0</td>\n",
              "      <td>0</td>\n",
              "      <td>0</td>\n",
              "      <td>0</td>\n",
              "      <td>0</td>\n",
              "      <td>0</td>\n",
              "      <td>0</td>\n",
              "      <td>0</td>\n",
              "      <td>0</td>\n",
              "      <td>0</td>\n",
              "      <td>0</td>\n",
              "      <td>0</td>\n",
              "      <td>0</td>\n",
              "      <td>0</td>\n",
              "    </tr>\n",
              "  </tbody>\n",
              "</table>\n",
              "</div>\n",
              "      <button class=\"colab-df-convert\" onclick=\"convertToInteractive('df-d400a462-c6ae-4573-a9e0-b36bb72c89ff')\"\n",
              "              title=\"Convert this dataframe to an interactive table.\"\n",
              "              style=\"display:none;\">\n",
              "        \n",
              "  <svg xmlns=\"http://www.w3.org/2000/svg\" height=\"24px\"viewBox=\"0 0 24 24\"\n",
              "       width=\"24px\">\n",
              "    <path d=\"M0 0h24v24H0V0z\" fill=\"none\"/>\n",
              "    <path d=\"M18.56 5.44l.94 2.06.94-2.06 2.06-.94-2.06-.94-.94-2.06-.94 2.06-2.06.94zm-11 1L8.5 8.5l.94-2.06 2.06-.94-2.06-.94L8.5 2.5l-.94 2.06-2.06.94zm10 10l.94 2.06.94-2.06 2.06-.94-2.06-.94-.94-2.06-.94 2.06-2.06.94z\"/><path d=\"M17.41 7.96l-1.37-1.37c-.4-.4-.92-.59-1.43-.59-.52 0-1.04.2-1.43.59L10.3 9.45l-7.72 7.72c-.78.78-.78 2.05 0 2.83L4 21.41c.39.39.9.59 1.41.59.51 0 1.02-.2 1.41-.59l7.78-7.78 2.81-2.81c.8-.78.8-2.07 0-2.86zM5.41 20L4 18.59l7.72-7.72 1.47 1.35L5.41 20z\"/>\n",
              "  </svg>\n",
              "      </button>\n",
              "      \n",
              "  <style>\n",
              "    .colab-df-container {\n",
              "      display:flex;\n",
              "      flex-wrap:wrap;\n",
              "      gap: 12px;\n",
              "    }\n",
              "\n",
              "    .colab-df-convert {\n",
              "      background-color: #E8F0FE;\n",
              "      border: none;\n",
              "      border-radius: 50%;\n",
              "      cursor: pointer;\n",
              "      display: none;\n",
              "      fill: #1967D2;\n",
              "      height: 32px;\n",
              "      padding: 0 0 0 0;\n",
              "      width: 32px;\n",
              "    }\n",
              "\n",
              "    .colab-df-convert:hover {\n",
              "      background-color: #E2EBFA;\n",
              "      box-shadow: 0px 1px 2px rgba(60, 64, 67, 0.3), 0px 1px 3px 1px rgba(60, 64, 67, 0.15);\n",
              "      fill: #174EA6;\n",
              "    }\n",
              "\n",
              "    [theme=dark] .colab-df-convert {\n",
              "      background-color: #3B4455;\n",
              "      fill: #D2E3FC;\n",
              "    }\n",
              "\n",
              "    [theme=dark] .colab-df-convert:hover {\n",
              "      background-color: #434B5C;\n",
              "      box-shadow: 0px 1px 3px 1px rgba(0, 0, 0, 0.15);\n",
              "      filter: drop-shadow(0px 1px 2px rgba(0, 0, 0, 0.3));\n",
              "      fill: #FFFFFF;\n",
              "    }\n",
              "  </style>\n",
              "\n",
              "      <script>\n",
              "        const buttonEl =\n",
              "          document.querySelector('#df-d400a462-c6ae-4573-a9e0-b36bb72c89ff button.colab-df-convert');\n",
              "        buttonEl.style.display =\n",
              "          google.colab.kernel.accessAllowed ? 'block' : 'none';\n",
              "\n",
              "        async function convertToInteractive(key) {\n",
              "          const element = document.querySelector('#df-d400a462-c6ae-4573-a9e0-b36bb72c89ff');\n",
              "          const dataTable =\n",
              "            await google.colab.kernel.invokeFunction('convertToInteractive',\n",
              "                                                     [key], {});\n",
              "          if (!dataTable) return;\n",
              "\n",
              "          const docLinkHtml = 'Like what you see? Visit the ' +\n",
              "            '<a target=\"_blank\" href=https://colab.research.google.com/notebooks/data_table.ipynb>data table notebook</a>'\n",
              "            + ' to learn more about interactive tables.';\n",
              "          element.innerHTML = '';\n",
              "          dataTable['output_type'] = 'display_data';\n",
              "          await google.colab.output.renderOutput(dataTable, element);\n",
              "          const docLink = document.createElement('div');\n",
              "          docLink.innerHTML = docLinkHtml;\n",
              "          element.appendChild(docLink);\n",
              "        }\n",
              "      </script>\n",
              "    </div>\n",
              "  </div>\n",
              "  "
            ]
          },
          "metadata": {},
          "execution_count": 5
        }
      ],
      "source": [
        "cora_content = pd.read_csv('cora_content.txt', sep='\t', \n",
        "                           header=None, index_col=0)\n",
        "cora_content.index = cora_content.index.astype('str')\n",
        "cora_content.index.name = 'node'\n",
        "cora_content.iloc[:5, :20]"
      ]
    },
    {
      "cell_type": "markdown",
      "metadata": {
        "id": "sC4IrNx1UuvW"
      },
      "source": [
        "Each publication in the dataset is described by a 0/1-valued word vector indicating the absence/presence of the corresponding word from the dictionary. The dictionary consists of 1433 unique words. In this assignment, we will only work with categories and will not touch any information about words.\n",
        "\n",
        "Examples of node categories"
      ]
    },
    {
      "cell_type": "code",
      "execution_count": null,
      "metadata": {
        "id": "tTo-xxNIUuvY",
        "colab": {
          "base_uri": "https://localhost:8080/",
          "height": 237
        },
        "outputId": "19037ac6-8f3c-4d76-a9c8-accccca6416e"
      },
      "outputs": [
        {
          "output_type": "execute_result",
          "data": {
            "text/plain": [
              "                category_name\n",
              "node                         \n",
              "155736                 Theory\n",
              "51052   Probabilistic_Methods\n",
              "60159         Neural_Networks\n",
              "14062      Genetic_Algorithms\n",
              "48550         Neural_Networks"
            ],
            "text/html": [
              "\n",
              "  <div id=\"df-c5af9e43-189e-446a-b7ae-bd8ef9dcc701\">\n",
              "    <div class=\"colab-df-container\">\n",
              "      <div>\n",
              "<style scoped>\n",
              "    .dataframe tbody tr th:only-of-type {\n",
              "        vertical-align: middle;\n",
              "    }\n",
              "\n",
              "    .dataframe tbody tr th {\n",
              "        vertical-align: top;\n",
              "    }\n",
              "\n",
              "    .dataframe thead th {\n",
              "        text-align: right;\n",
              "    }\n",
              "</style>\n",
              "<table border=\"1\" class=\"dataframe\">\n",
              "  <thead>\n",
              "    <tr style=\"text-align: right;\">\n",
              "      <th></th>\n",
              "      <th>category_name</th>\n",
              "    </tr>\n",
              "    <tr>\n",
              "      <th>node</th>\n",
              "      <th></th>\n",
              "    </tr>\n",
              "  </thead>\n",
              "  <tbody>\n",
              "    <tr>\n",
              "      <th>155736</th>\n",
              "      <td>Theory</td>\n",
              "    </tr>\n",
              "    <tr>\n",
              "      <th>51052</th>\n",
              "      <td>Probabilistic_Methods</td>\n",
              "    </tr>\n",
              "    <tr>\n",
              "      <th>60159</th>\n",
              "      <td>Neural_Networks</td>\n",
              "    </tr>\n",
              "    <tr>\n",
              "      <th>14062</th>\n",
              "      <td>Genetic_Algorithms</td>\n",
              "    </tr>\n",
              "    <tr>\n",
              "      <th>48550</th>\n",
              "      <td>Neural_Networks</td>\n",
              "    </tr>\n",
              "  </tbody>\n",
              "</table>\n",
              "</div>\n",
              "      <button class=\"colab-df-convert\" onclick=\"convertToInteractive('df-c5af9e43-189e-446a-b7ae-bd8ef9dcc701')\"\n",
              "              title=\"Convert this dataframe to an interactive table.\"\n",
              "              style=\"display:none;\">\n",
              "        \n",
              "  <svg xmlns=\"http://www.w3.org/2000/svg\" height=\"24px\"viewBox=\"0 0 24 24\"\n",
              "       width=\"24px\">\n",
              "    <path d=\"M0 0h24v24H0V0z\" fill=\"none\"/>\n",
              "    <path d=\"M18.56 5.44l.94 2.06.94-2.06 2.06-.94-2.06-.94-.94-2.06-.94 2.06-2.06.94zm-11 1L8.5 8.5l.94-2.06 2.06-.94-2.06-.94L8.5 2.5l-.94 2.06-2.06.94zm10 10l.94 2.06.94-2.06 2.06-.94-2.06-.94-.94-2.06-.94 2.06-2.06.94z\"/><path d=\"M17.41 7.96l-1.37-1.37c-.4-.4-.92-.59-1.43-.59-.52 0-1.04.2-1.43.59L10.3 9.45l-7.72 7.72c-.78.78-.78 2.05 0 2.83L4 21.41c.39.39.9.59 1.41.59.51 0 1.02-.2 1.41-.59l7.78-7.78 2.81-2.81c.8-.78.8-2.07 0-2.86zM5.41 20L4 18.59l7.72-7.72 1.47 1.35L5.41 20z\"/>\n",
              "  </svg>\n",
              "      </button>\n",
              "      \n",
              "  <style>\n",
              "    .colab-df-container {\n",
              "      display:flex;\n",
              "      flex-wrap:wrap;\n",
              "      gap: 12px;\n",
              "    }\n",
              "\n",
              "    .colab-df-convert {\n",
              "      background-color: #E8F0FE;\n",
              "      border: none;\n",
              "      border-radius: 50%;\n",
              "      cursor: pointer;\n",
              "      display: none;\n",
              "      fill: #1967D2;\n",
              "      height: 32px;\n",
              "      padding: 0 0 0 0;\n",
              "      width: 32px;\n",
              "    }\n",
              "\n",
              "    .colab-df-convert:hover {\n",
              "      background-color: #E2EBFA;\n",
              "      box-shadow: 0px 1px 2px rgba(60, 64, 67, 0.3), 0px 1px 3px 1px rgba(60, 64, 67, 0.15);\n",
              "      fill: #174EA6;\n",
              "    }\n",
              "\n",
              "    [theme=dark] .colab-df-convert {\n",
              "      background-color: #3B4455;\n",
              "      fill: #D2E3FC;\n",
              "    }\n",
              "\n",
              "    [theme=dark] .colab-df-convert:hover {\n",
              "      background-color: #434B5C;\n",
              "      box-shadow: 0px 1px 3px 1px rgba(0, 0, 0, 0.15);\n",
              "      filter: drop-shadow(0px 1px 2px rgba(0, 0, 0, 0.3));\n",
              "      fill: #FFFFFF;\n",
              "    }\n",
              "  </style>\n",
              "\n",
              "      <script>\n",
              "        const buttonEl =\n",
              "          document.querySelector('#df-c5af9e43-189e-446a-b7ae-bd8ef9dcc701 button.colab-df-convert');\n",
              "        buttonEl.style.display =\n",
              "          google.colab.kernel.accessAllowed ? 'block' : 'none';\n",
              "\n",
              "        async function convertToInteractive(key) {\n",
              "          const element = document.querySelector('#df-c5af9e43-189e-446a-b7ae-bd8ef9dcc701');\n",
              "          const dataTable =\n",
              "            await google.colab.kernel.invokeFunction('convertToInteractive',\n",
              "                                                     [key], {});\n",
              "          if (!dataTable) return;\n",
              "\n",
              "          const docLinkHtml = 'Like what you see? Visit the ' +\n",
              "            '<a target=\"_blank\" href=https://colab.research.google.com/notebooks/data_table.ipynb>data table notebook</a>'\n",
              "            + ' to learn more about interactive tables.';\n",
              "          element.innerHTML = '';\n",
              "          dataTable['output_type'] = 'display_data';\n",
              "          await google.colab.output.renderOutput(dataTable, element);\n",
              "          const docLink = document.createElement('div');\n",
              "          docLink.innerHTML = docLinkHtml;\n",
              "          element.appendChild(docLink);\n",
              "        }\n",
              "      </script>\n",
              "    </div>\n",
              "  </div>\n",
              "  "
            ]
          },
          "metadata": {},
          "execution_count": 6
        }
      ],
      "source": [
        "category = cora_content.loc[gcc_nodes, [1434]]\n",
        "category = category.rename(columns={1434: 'category_name'})\n",
        "category.head()"
      ]
    },
    {
      "cell_type": "markdown",
      "metadata": {
        "id": "irfeC5OXUuva"
      },
      "source": [
        "Category distribution"
      ]
    },
    {
      "cell_type": "code",
      "execution_count": null,
      "metadata": {
        "id": "dyupl-HNUuvb",
        "colab": {
          "base_uri": "https://localhost:8080/",
          "height": 265
        },
        "outputId": "c0ceb64f-16ac-4417-ad10-7d1205cce6c6"
      },
      "outputs": [
        {
          "output_type": "display_data",
          "data": {
            "text/plain": [
              "<Figure size 432x288 with 1 Axes>"
            ],
            "image/png": "[encoded data removed]"
          },
          "metadata": {
            "needs_background": "light"
          }
        }
      ],
      "source": [
        "plt.barh(*np.unique(category, return_counts=True));"
      ]
    },
    {
      "cell_type": "markdown",
      "metadata": {
        "id": "_YMiesMBUuvc"
      },
      "source": [
        "Rename categories to integer numbers (ids)"
      ]
    },
    {
      "cell_type": "code",
      "execution_count": null,
      "metadata": {
        "id": "pDV-XuRIUuve",
        "colab": {
          "base_uri": "https://localhost:8080/",
          "height": 237
        },
        "outputId": "0c7a00b2-592e-400a-c0b4-f8621477b257"
      },
      "outputs": [
        {
          "output_type": "execute_result",
          "data": {
            "text/plain": [
              "                category_name  category_id\n",
              "node                                      \n",
              "155736                 Theory            6\n",
              "51052   Probabilistic_Methods            3\n",
              "60159         Neural_Networks            2\n",
              "14062      Genetic_Algorithms            1\n",
              "48550         Neural_Networks            2"
            ],
            "text/html": [
              "\n",
              "  <div id=\"df-a090ae14-d38c-4a12-ae22-cd8db7db0f3c\">\n",
              "    <div class=\"colab-df-container\">\n",
              "      <div>\n",
              "<style scoped>\n",
              "    .dataframe tbody tr th:only-of-type {\n",
              "        vertical-align: middle;\n",
              "    }\n",
              "\n",
              "    .dataframe tbody tr th {\n",
              "        vertical-align: top;\n",
              "    }\n",
              "\n",
              "    .dataframe thead th {\n",
              "        text-align: right;\n",
              "    }\n",
              "</style>\n",
              "<table border=\"1\" class=\"dataframe\">\n",
              "  <thead>\n",
              "    <tr style=\"text-align: right;\">\n",
              "      <th></th>\n",
              "      <th>category_name</th>\n",
              "      <th>category_id</th>\n",
              "    </tr>\n",
              "    <tr>\n",
              "      <th>node</th>\n",
              "      <th></th>\n",
              "      <th></th>\n",
              "    </tr>\n",
              "  </thead>\n",
              "  <tbody>\n",
              "    <tr>\n",
              "      <th>155736</th>\n",
              "      <td>Theory</td>\n",
              "      <td>6</td>\n",
              "    </tr>\n",
              "    <tr>\n",
              "      <th>51052</th>\n",
              "      <td>Probabilistic_Methods</td>\n",
              "      <td>3</td>\n",
              "    </tr>\n",
              "    <tr>\n",
              "      <th>60159</th>\n",
              "      <td>Neural_Networks</td>\n",
              "      <td>2</td>\n",
              "    </tr>\n",
              "    <tr>\n",
              "      <th>14062</th>\n",
              "      <td>Genetic_Algorithms</td>\n",
              "      <td>1</td>\n",
              "    </tr>\n",
              "    <tr>\n",
              "      <th>48550</th>\n",
              "      <td>Neural_Networks</td>\n",
              "      <td>2</td>\n",
              "    </tr>\n",
              "  </tbody>\n",
              "</table>\n",
              "</div>\n",
              "      <button class=\"colab-df-convert\" onclick=\"convertToInteractive('df-a090ae14-d38c-4a12-ae22-cd8db7db0f3c')\"\n",
              "              title=\"Convert this dataframe to an interactive table.\"\n",
              "              style=\"display:none;\">\n",
              "        \n",
              "  <svg xmlns=\"http://www.w3.org/2000/svg\" height=\"24px\"viewBox=\"0 0 24 24\"\n",
              "       width=\"24px\">\n",
              "    <path d=\"M0 0h24v24H0V0z\" fill=\"none\"/>\n",
              "    <path d=\"M18.56 5.44l.94 2.06.94-2.06 2.06-.94-2.06-.94-.94-2.06-.94 2.06-2.06.94zm-11 1L8.5 8.5l.94-2.06 2.06-.94-2.06-.94L8.5 2.5l-.94 2.06-2.06.94zm10 10l.94 2.06.94-2.06 2.06-.94-2.06-.94-.94-2.06-.94 2.06-2.06.94z\"/><path d=\"M17.41 7.96l-1.37-1.37c-.4-.4-.92-.59-1.43-.59-.52 0-1.04.2-1.43.59L10.3 9.45l-7.72 7.72c-.78.78-.78 2.05 0 2.83L4 21.41c.39.39.9.59 1.41.59.51 0 1.02-.2 1.41-.59l7.78-7.78 2.81-2.81c.8-.78.8-2.07 0-2.86zM5.41 20L4 18.59l7.72-7.72 1.47 1.35L5.41 20z\"/>\n",
              "  </svg>\n",
              "      </button>\n",
              "      \n",
              "  <style>\n",
              "    .colab-df-container {\n",
              "      display:flex;\n",
              "      flex-wrap:wrap;\n",
              "      gap: 12px;\n",
              "    }\n",
              "\n",
              "    .colab-df-convert {\n",
              "      background-color: #E8F0FE;\n",
              "      border: none;\n",
              "      border-radius: 50%;\n",
              "      cursor: pointer;\n",
              "      display: none;\n",
              "      fill: #1967D2;\n",
              "      height: 32px;\n",
              "      padding: 0 0 0 0;\n",
              "      width: 32px;\n",
              "    }\n",
              "\n",
              "    .colab-df-convert:hover {\n",
              "      background-color: #E2EBFA;\n",
              "      box-shadow: 0px 1px 2px rgba(60, 64, 67, 0.3), 0px 1px 3px 1px rgba(60, 64, 67, 0.15);\n",
              "      fill: #174EA6;\n",
              "    }\n",
              "\n",
              "    [theme=dark] .colab-df-convert {\n",
              "      background-color: #3B4455;\n",
              "      fill: #D2E3FC;\n",
              "    }\n",
              "\n",
              "    [theme=dark] .colab-df-convert:hover {\n",
              "      background-color: #434B5C;\n",
              "      box-shadow: 0px 1px 3px 1px rgba(0, 0, 0, 0.15);\n",
              "      filter: drop-shadow(0px 1px 2px rgba(0, 0, 0, 0.3));\n",
              "      fill: #FFFFFF;\n",
              "    }\n",
              "  </style>\n",
              "\n",
              "      <script>\n",
              "        const buttonEl =\n",
              "          document.querySelector('#df-a090ae14-d38c-4a12-ae22-cd8db7db0f3c button.colab-df-convert');\n",
              "        buttonEl.style.display =\n",
              "          google.colab.kernel.accessAllowed ? 'block' : 'none';\n",
              "\n",
              "        async function convertToInteractive(key) {\n",
              "          const element = document.querySelector('#df-a090ae14-d38c-4a12-ae22-cd8db7db0f3c');\n",
              "          const dataTable =\n",
              "            await google.colab.kernel.invokeFunction('convertToInteractive',\n",
              "                                                     [key], {});\n",
              "          if (!dataTable) return;\n",
              "\n",
              "          const docLinkHtml = 'Like what you see? Visit the ' +\n",
              "            '<a target=\"_blank\" href=https://colab.research.google.com/notebooks/data_table.ipynb>data table notebook</a>'\n",
              "            + ' to learn more about interactive tables.';\n",
              "          element.innerHTML = '';\n",
              "          dataTable['output_type'] = 'display_data';\n",
              "          await google.colab.output.renderOutput(dataTable, element);\n",
              "          const docLink = document.createElement('div');\n",
              "          docLink.innerHTML = docLinkHtml;\n",
              "          element.appendChild(docLink);\n",
              "        }\n",
              "      </script>\n",
              "    </div>\n",
              "  </div>\n",
              "  "
            ]
          },
          "metadata": {},
          "execution_count": 8
        }
      ],
      "source": [
        "category['category_id'] = np.unique(category.category_name, \n",
        "                                    return_inverse = True)[1]\n",
        "category.head()"
      ]
    },
    {
      "cell_type": "markdown",
      "metadata": {
        "id": "uGmqmsLpUuvf"
      },
      "source": [
        "Assortativity coefficient"
      ]
    },
    {
      "cell_type": "code",
      "execution_count": null,
      "metadata": {
        "id": "P5NOfem-Uuvg",
        "colab": {
          "base_uri": "https://localhost:8080/"
        },
        "outputId": "d4f4cebe-5747-4df9-936e-07e61928f3ed"
      },
      "outputs": [
        {
          "output_type": "execute_result",
          "data": {
            "text/plain": [
              "0.76"
            ]
          },
          "metadata": {},
          "execution_count": 9
        }
      ],
      "source": [
        "nx.set_node_attributes(gcc_cora, category.category_id.to_dict(), 'category')\n",
        "gcc_cora = nx.convert_node_labels_to_integers(gcc_cora)\n",
        "round(nx.attribute_assortativity_coefficient(gcc_cora, 'category'), 2)"
      ]
    },
    {
      "cell_type": "markdown",
      "metadata": {
        "id": "j0Y2kWgCUuvh"
      },
      "source": [
        "### Task 1. Node embedding visualization (0 points)"
      ]
    },
    {
      "cell_type": "code",
      "execution_count": null,
      "metadata": {
        "id": "CpGfZd9WUuvi",
        "colab": {
          "base_uri": "https://localhost:8080/"
        },
        "outputId": "0e4a71e5-6019-40bb-e539-2cd36f50686c"
      },
      "outputs": [
        {
          "output_type": "stream",
          "name": "stdout",
          "text": [
            "Collecting gensim==4.0.0\n",
            "  Downloading gensim-4.0.0-cp37-cp37m-manylinux1_x86_64.whl (23.9 MB)\n",
            "\u001b[K     |████████████████████████████████| 23.9 MB 75.4 MB/s \n",
            "\u001b[?25hRequirement already satisfied: numpy>=1.11.3 in /usr/local/lib/python3.7/dist-packages (from gensim==4.0.0) (1.21.5)\n",
            "Requirement already satisfied: smart-open>=1.8.1 in /usr/local/lib/python3.7/dist-packages (from gensim==4.0.0) (5.2.1)\n",
            "Requirement already satisfied: scipy>=0.18.1 in /usr/local/lib/python3.7/dist-packages (from gensim==4.0.0) (1.4.1)\n",
            "Installing collected packages: gensim\n",
            "  Attempting uninstall: gensim\n",
            "    Found existing installation: gensim 3.6.0\n",
            "    Uninstalling gensim-3.6.0:\n",
            "      Successfully uninstalled gensim-3.6.0\n",
            "Successfully installed gensim-4.0.0\n",
            "Collecting karateclub\n",
            "  Downloading karateclub-1.2.3.tar.gz (62 kB)\n",
            "\u001b[K     |████████████████████████████████| 62 kB 497 kB/s \n",
            "\u001b[?25hRequirement already satisfied: numpy in /usr/local/lib/python3.7/dist-packages (from karateclub) (1.21.5)\n",
            "Requirement already satisfied: networkx in /usr/local/lib/python3.7/dist-packages (from karateclub) (2.6.3)\n",
            "Requirement already satisfied: decorator==4.4.2 in /usr/local/lib/python3.7/dist-packages (from karateclub) (4.4.2)\n",
            "Requirement already satisfied: tqdm in /usr/local/lib/python3.7/dist-packages (from karateclub) (4.63.0)\n",
            "Requirement already satisfied: python-louvain in /usr/local/lib/python3.7/dist-packages (from karateclub) (0.16)\n",
            "Requirement already satisfied: scikit-learn in /usr/local/lib/python3.7/dist-packages (from karateclub) (1.0.2)\n",
            "Requirement already satisfied: scipy in /usr/local/lib/python3.7/dist-packages (from karateclub) (1.4.1)\n",
            "Collecting pygsp\n",
            "  Downloading PyGSP-0.5.1-py2.py3-none-any.whl (1.8 MB)\n",
            "\u001b[K     |████████████████████████████████| 1.8 MB 8.7 MB/s \n",
            "\u001b[?25hRequirement already satisfied: gensim>=4.0.0 in /usr/local/lib/python3.7/dist-packages (from karateclub) (4.0.0)\n",
            "Requirement already satisfied: pandas<=1.3.5 in /usr/local/lib/python3.7/dist-packages (from karateclub) (1.3.5)\n",
            "Requirement already satisfied: six in /usr/local/lib/python3.7/dist-packages (from karateclub) (1.15.0)\n",
            "Collecting python-Levenshtein\n",
            "  Downloading python-Levenshtein-0.12.2.tar.gz (50 kB)\n",
            "\u001b[K     |████████████████████████████████| 50 kB 6.4 MB/s \n",
            "\u001b[?25hRequirement already satisfied: smart-open>=1.8.1 in /usr/local/lib/python3.7/dist-packages (from gensim>=4.0.0->karateclub) (5.2.1)\n",
            "Requirement already satisfied: pytz>=2017.3 in /usr/local/lib/python3.7/dist-packages (from pandas<=1.3.5->karateclub) (2018.9)\n",
            "Requirement already satisfied: python-dateutil>=2.7.3 in /usr/local/lib/python3.7/dist-packages (from pandas<=1.3.5->karateclub) (2.8.2)\n",
            "Requirement already satisfied: setuptools in /usr/local/lib/python3.7/dist-packages (from python-Levenshtein->karateclub) (57.4.0)\n",
            "Requirement already satisfied: threadpoolctl>=2.0.0 in /usr/local/lib/python3.7/dist-packages (from scikit-learn->karateclub) (3.1.0)\n",
            "Requirement already satisfied: joblib>=0.11 in /usr/local/lib/python3.7/dist-packages (from scikit-learn->karateclub) (1.1.0)\n",
            "Building wheels for collected packages: karateclub, python-Levenshtein\n",
            "  Building wheel for karateclub (setup.py) ... \u001b[?25l\u001b[?25hdone\n",
            "  Created wheel for karateclub: filename=karateclub-1.2.3-py3-none-any.whl size=97754 sha256=43e536f0bbf4d8ea34e77a2a9e6629b01cff2368a8f13f6143d9637eb735010f\n",
            "  Stored in directory: /root/.cache/pip/wheels/7a/09/80/0d50455fd4e297e88f8f38a711c6f4849e6bd1a330000dde3d\n",
            "  Building wheel for python-Levenshtein (setup.py) ... \u001b[?25l\u001b[?25hdone\n",
            "  Created wheel for python-Levenshtein: filename=python_Levenshtein-0.12.2-cp37-cp37m-linux_x86_64.whl size=149860 sha256=0046dbb39ff52df7591bf67b84a80489b267c24910bc85e661147d68ac949762\n",
            "  Stored in directory: /root/.cache/pip/wheels/05/5f/ca/7c4367734892581bb5ff896f15027a932c551080b2abd3e00d\n",
            "Successfully built karateclub python-Levenshtein\n",
            "Installing collected packages: python-Levenshtein, pygsp, karateclub\n",
            "Successfully installed karateclub-1.2.3 pygsp-0.5.1 python-Levenshtein-0.12.2\n"
          ]
        }
      ],
      "source": [
        "!pip install gensim==4.0.0\n",
        "!pip install karateclub"
      ]
    },
    {
      "cell_type": "code",
      "execution_count": null,
      "metadata": {
        "id": "LBpI19SxUuvj"
      },
      "outputs": [],
      "source": [
        "from gensim.models.word2vec import Word2Vec\n",
        "from karateclub import DeepWalk, Walklets, LaplacianEigenmaps"
      ]
    },
    {
      "cell_type": "markdown",
      "metadata": {
        "id": "FQRqwXZeUuvl"
      },
      "source": [
        "Let us compare embedding algorithms that we saw in previous assignments: \n",
        "* Laplacian Eigenmaps\n",
        "* Truncated SVD of an adjacency matrix\n",
        "* DeepWalk\n",
        "* Walklets\n",
        "\n",
        "There is a usefull python package [*Karate Club*](https://github.com/benedekrozemberczki/karateclub) that contains implementations of these algorithms. Also we will use sklearn implementation of truncated SVD."
      ]
    },
    {
      "cell_type": "markdown",
      "metadata": {
        "id": "IPQryHX4Uuvn"
      },
      "source": [
        "Embedding algorithms in Karate Club have a general interface\n",
        "\n",
        "```\n",
        "model.fit(graph)\n",
        "embedding = model.get_embedding()\n",
        "```\n",
        "\n",
        "However, the one inconvenient thing is that Walklets make a concatenation of Word2Vec embeddings to obtain final embeddings. In this way, the output dimensionality will be Word2Vec dimensionality multiplied by window size. A piece of source code:\n",
        "\n",
        "```python\n",
        "def get_embedding(self) -> np.array:\n",
        "    r\"\"\"Getting the node embedding.\n",
        "\n",
        "    Return types:\n",
        "        * **embedding** *(Numpy array)* - The embedding of nodes.\n",
        "    \"\"\"\n",
        "    return np.concatenate(self._embedding, axis=1)\n",
        "```\n",
        "\n",
        "Sometimes, it is usefull to have deep representation of nodes, but  we want to compare embeddings with the same dimensionality, so let us define our own class `MeanWalklets` that inherits `Walklets` and returns average embeddings in the `get_embedding` method."
      ]
    },
    {
      "cell_type": "code",
      "execution_count": null,
      "metadata": {
        "deletable": false,
        "nbgrader": {
          "cell_type": "code",
          "checksum": "c5393ffb3b8e11deee148cd111b3bf9e",
          "grade": false,
          "grade_id": "cell-1be4879cc8190e43",
          "locked": false,
          "schema_version": 3,
          "solution": true,
          "task": false
        },
        "id": "d_h2DJOGUuvp"
      },
      "outputs": [],
      "source": [
        "class MeanWalklets(Walklets):\n",
        "    def get_embedding(self):\n",
        "        # YOUR CODE HERE\n",
        "        return np.mean(self._embedding, axis=0)"
      ]
    },
    {
      "cell_type": "code",
      "execution_count": null,
      "metadata": {
        "deletable": false,
        "editable": false,
        "nbgrader": {
          "cell_type": "code",
          "checksum": "6facdeadc2ee2d369d082756713527bf",
          "grade": true,
          "grade_id": "cell-7c5dd45231ab30af",
          "locked": true,
          "points": 0,
          "schema_version": 3,
          "solution": false,
          "task": false
        },
        "id": "XP0yYjtsUuvq"
      },
      "outputs": [],
      "source": [
        "test_model = MeanWalklets()\n",
        "test_model.fit(nx.karate_club_graph())\n",
        "test_emb = test_model.get_embedding()\n",
        "assert test_emb.shape == (34, 32)"
      ]
    },
    {
      "cell_type": "markdown",
      "metadata": {
        "id": "aKsh-UW_Uuvr"
      },
      "source": [
        "Now let us visualize the 2d embeddings.\n",
        "\n",
        "Write a function `xy_embeddings` that takes a graph, compute 16d embeddings, reduce them into 2d via PCA and returns in the order:\n",
        "* Laplacian Eigenmaps\n",
        "* Truncated SVD of an adjacency matrix\n",
        "* DeepWalk\n",
        "* Walklets\n",
        "\n",
        "*Hints:*\n",
        "* *Suggested hyperparameters for DeepWalk and Walklets are `walk_number=10`, `walk_length=30`, `window_size=10`*\n",
        "* *You do not need reduce Walklets embeddgins to 2d, just directly use `PCAWalklets` with dimensionality 2*\n",
        "\n",
        "\n",
        "Теперь давайте визуализируем двумерные вложения.\n",
        "\n",
        "Напишите функцию `xy_embeddings`, которая берет график, вычисляет 16-мерные вложения, сводит их к 2-мерным с помощью PCA и возвращает в следующем порядке:\n",
        "* Лапласовы собственные карты\n",
        "* Усеченный SVD матрицы смежности\n",
        "* Глубокая прогулка\n",
        "* Прогулки\n",
        "\n",
        "*Подсказки:*\n",
        "* * Предлагаемые гиперпараметры для DeepWalk и Walklets: `walk_number=10`, `walk_length=30`, `window_size=10`*\n",
        "* * Вам не нужно уменьшать вложения Walklets до 2d, просто используйте `PCAWalklets` с размерностью 2*"
      ]
    },
    {
      "cell_type": "code",
      "execution_count": null,
      "metadata": {
        "deletable": false,
        "nbgrader": {
          "cell_type": "code",
          "checksum": "bc41a75960ee98cb19af04de548100a0",
          "grade": false,
          "grade_id": "cell-d33f4faf41b0da0e",
          "locked": false,
          "schema_version": 3,
          "solution": true,
          "task": false
        },
        "id": "9qZNWarTUuvr"
      },
      "outputs": [],
      "source": [
        "def xy_embeddings(_graph):\n",
        "    graph = _graph.copy()\n",
        "    bar = tqdm(total=4)\n",
        "    \n",
        "    model = MeanWalklets(walk_number=10, walk_length=30, window_size=10, dimensions=16)\n",
        "    model.fit(graph)\n",
        "    emb = model.get_embedding() # 16d\n",
        "    model = PCA(n_components=2)\n",
        "    walklets_emb = model.fit_transform(emb)\n",
        "    bar.update(1)\n",
        "\n",
        "    model = LaplacianEigenmaps(dimensions=16)\n",
        "    model.fit(graph)\n",
        "    emb = model.get_embedding() # 16d\n",
        "    model = PCA(n_components=2)\n",
        "    lap_eig_emb = model.fit_transform(emb)\n",
        "    bar.update(1)\n",
        "    \n",
        "    model = DeepWalk(walk_number=10, walk_length=30, window_size=10, dimensions=16)\n",
        "    model.fit(graph)\n",
        "    emb = model.get_embedding() # 16d\n",
        "    model = PCA(n_components=2)\n",
        "    deepwalk_emb = model.fit_transform(emb)\n",
        "    bar.update(1)\n",
        "\n",
        "    A = nx.to_numpy_array(graph)\n",
        "    model = TruncatedSVD(n_components=16)\n",
        "    emb = model.fit_transform(A)\n",
        "    model = PCA(n_components=2)\n",
        "    trunc_svd_emb = model.fit_transform(emb)\n",
        "    bar.update(1)\n",
        "    return lap_eig_emb, trunc_svd_emb, deepwalk_emb, walklets_emb"
      ]
    },
    {
      "cell_type": "code",
      "execution_count": null,
      "metadata": {
        "deletable": false,
        "editable": false,
        "nbgrader": {
          "cell_type": "code",
          "checksum": "026e746b06727b5c3c53c8a547e0659f",
          "grade": true,
          "grade_id": "cell-ce2531dac614957f",
          "locked": true,
          "points": 0,
          "schema_version": 3,
          "solution": false,
          "task": false
        },
        "id": "-1SyCAvaUuvs",
        "colab": {
          "base_uri": "https://localhost:8080/",
          "height": 49,
          "referenced_widgets": [
            "ee6ceb41c2134fc4a3f3ed02d9bffbbd",
            "b16d0c790b1c490ea642416eebaeced3",
            "1083e1f62b2c4d41837d867f529ff943",
            "c6143870274a4d5b8520123984fc1bd1",
            "367e9702e223479d9a9d733d053e311f",
            "eae002807b2e4abfa730fb8f76f84cb1",
            "acb4aa1c144f42049c0d92566eee8004",
            "dac165ea1b1f4e4ab77ef52e9df4b174",
            "b04b8f46b5ee4253ab2bb5c4710a0150",
            "4563c4fd125d49879fa3912283ab05c6",
            "92fae0906b974ebcb983baea1bcb08fc"
          ]
        },
        "outputId": "7bf1a453-887b-48ee-f309-88b8b249e5f7"
      },
      "outputs": [
        {
          "output_type": "display_data",
          "data": {
            "text/plain": [
              "  0%|          | 0/4 [00:00<?, ?it/s]"
            ],
            "application/vnd.jupyter.widget-view+json": {
              "version_major": 2,
              "version_minor": 0,
              "model_id": "ee6ceb41c2134fc4a3f3ed02d9bffbbd"
            }
          },
          "metadata": {}
        }
      ],
      "source": [
        "laplacian_emb, svd_emb, deep_walk_emb, walklets_emb = xy_embeddings(gcc_cora)\n",
        "assert (deep_walk_emb.shape == laplacian_emb.shape \n",
        "        == svd_emb.shape == walklets_emb.shape == (2485, 2))\n",
        "assert -0.5 < laplacian_emb.min() < laplacian_emb.max() < 0.5\n",
        "assert svd_emb[0].sum() > 11\n",
        "assert round(abs(np.corrcoef(deep_walk_emb[:, 0], deep_walk_emb[:, 1])[0][1]), \n",
        "             2) == 0\n",
        "assert round(abs(np.corrcoef(walklets_emb[:, 0], walklets_emb[:, 1])[0][1]), \n",
        "             2) == 0"
      ]
    },
    {
      "cell_type": "markdown",
      "metadata": {
        "id": "1Dj4vbzVUuvt"
      },
      "source": [
        "Next, here we get a list of category ids to color data points"
      ]
    },
    {
      "cell_type": "code",
      "execution_count": null,
      "metadata": {
        "id": "s-sUj7trUuvu",
        "colab": {
          "base_uri": "https://localhost:8080/"
        },
        "outputId": "c5d53e96-c5b8-4600-d752-939b064e9d9f"
      },
      "outputs": [
        {
          "output_type": "execute_result",
          "data": {
            "text/plain": [
              "[1, 1, 2, 1, 1, 1, 1, 1, 1, 1]"
            ]
          },
          "metadata": {},
          "execution_count": 18
        }
      ],
      "source": [
        "category_id = nx.get_node_attributes(gcc_cora, 'category')\n",
        "category_id = list(category_id.values())\n",
        "category_id[:10]"
      ]
    },
    {
      "cell_type": "code",
      "execution_count": null,
      "metadata": {
        "id": "0JZMpSmUUuvu",
        "colab": {
          "base_uri": "https://localhost:8080/",
          "height": 1000
        },
        "outputId": "895ee962-3699-4f61-e022-18e89dbcddc5"
      },
      "outputs": [
        {
          "output_type": "display_data",
          "data": {
            "text/plain": [
              "<Figure size 576x1728 with 4 Axes>"
            ],
            "image/png": "[encoded data removed]"
          },
          "metadata": {
            "needs_background": "light"
          }
        }
      ],
      "source": [
        "plt.figure(figsize=(8, 6*4))\n",
        "cases = [[laplacian_emb, 'Laplacian Eigenmaps'], \n",
        "         [svd_emb, 'Truncated SVD'], \n",
        "         [deep_walk_emb, 'DeepWalk'], \n",
        "         [walklets_emb, 'Walklets']]\n",
        "for i, (emb, title) in enumerate(cases):\n",
        "    plt.subplot(4, 1, i+1)\n",
        "    plt.scatter(emb[:, 0], emb[:, 1], c=category_id, cmap=plt.cm.Set1, s=10)\n",
        "    plt.title(title)"
      ]
    },
    {
      "cell_type": "markdown",
      "metadata": {
        "id": "vmRLjEyWUuvv"
      },
      "source": [
        "### Task 2. Test size dependency (3 points)"
      ]
    },
    {
      "cell_type": "code",
      "execution_count": null,
      "metadata": {
        "id": "ivuutYhKUuvw"
      },
      "outputs": [],
      "source": [
        "!pip install gensim==4.0.0\n",
        "!pip install karateclub"
      ]
    },
    {
      "cell_type": "code",
      "execution_count": null,
      "metadata": {
        "id": "yY7XAIdGUuvw"
      },
      "outputs": [],
      "source": [
        "from gensim.models.word2vec import Word2Vec\n",
        "from karateclub import DeepWalk, Walklets, LaplacianEigenmaps"
      ]
    },
    {
      "cell_type": "markdown",
      "metadata": {
        "id": "LpXQHGvAUuvx"
      },
      "source": [
        "Let us compare the quality of embedding algorithms on classification tasks depending on the size of test set.\n",
        "\n",
        "Write a function `embeddings_score` that takes a graph and computes 16d embeddigns, splits the dataset (X is embedding, y is category id) into train and test sets, fit `GradientBoostingClassifier` and returns a list of lists:\n",
        "* Micro-F1 score of Laplacian Eigenmaps for the test size 0.99, 0.95, 0.9, 0.8, 0.7\n",
        "* The same for Truncated SVD\n",
        "* The same for Deepwalk\n",
        "* The same for Walklets\n",
        "\n",
        "*Hints:* \n",
        "* *Use `train_test_split` splitting method from sklearn*\n",
        "* *Use `f1_score(y_test, y_pred, average='micro')` method from sklearn to calculate Micro-F1 score*\n",
        "* *It is ok if it takes about 2 minutes in Colab*\n",
        "\n",
        "\n",
        "Сравним качество встраивания алгоритмов в задачи классификации в зависимости от размера тестовой выборки.\n",
        "\n",
        "Напишите функцию embeddings_score, которая берет график и вычисляет 16d вложений, разбивает набор данных (X — встраивание, y — идентификатор категории) на обучающие и тестовые наборы, соответствует GradientBoostingClassifier и возвращает список списков:\n",
        "* Оценка Micro-F1 лапласовских собственных карт для размера теста 0,99, 0,95, 0,9, 0,8, 0,7\n",
        "* То же для Усеченной SVD\n",
        "* То же самое для Deepwalk\n",
        "* То же самое для Walklets\n",
        "\n",
        "*Подсказки:*\n",
        "* *Используйте метод разделения `train_test_split` из sklearn*\n",
        "* *Используйте метод `f1_score(y_test, y_pred, medium='micro')` из sklearn для расчета оценки Micro-F1*\n",
        "* *Это нормально, если в Colab это займет около 2 минут*"
      ]
    },
    {
      "cell_type": "code",
      "execution_count": null,
      "metadata": {
        "deletable": false,
        "nbgrader": {
          "cell_type": "code",
          "checksum": "92cd49c29464928c8eb6297ebb5473c0",
          "grade": false,
          "grade_id": "cell-0c29359bd3423c87",
          "locked": false,
          "schema_version": 3,
          "solution": true,
          "task": false
        },
        "id": "cPutrEDMUuvz"
      },
      "outputs": [],
      "source": [
        "def embeddings_score(_graph):\n",
        "    graph = _graph.copy()\n",
        "    bar = tqdm(total=4)\n",
        "    score_MeanWalklets = []\n",
        "    score_LaplacianEigenmaps = []\n",
        "    score_DeepWalk = []\n",
        "    score_TruncatedSVD = []\n",
        "\n",
        "    model = MeanWalklets(walk_number=10, walk_length=30, window_size=10, dimensions=16)\n",
        "    model.fit(graph)\n",
        "    emb = model.get_embedding() # 16d\n",
        "    bar.update(1)\n",
        "\n",
        "    for i in [0.99, 0.95, 0.9, 0.8, 0.7]:\n",
        "      X_train, X_test, y_train, y_test = train_test_split(emb, category_id, test_size=i, random_state=42)\n",
        "      clf = GradientBoostingClassifier().fit(X_train, y_train)\n",
        "      y_true = clf.predict(X_test)\n",
        "      score_MeanWalklets.append(f1_score(y_true, y_test, average='micro'))\n",
        "\n",
        "    model = LaplacianEigenmaps(dimensions=16)\n",
        "    model.fit(graph)\n",
        "    emb = model.get_embedding() # 16d\n",
        "    bar.update(1)\n",
        "    for i in [0.99, 0.95, 0.9, 0.8, 0.7]:\n",
        "      X_train, X_test, y_train, y_test = train_test_split(emb, category_id, test_size=i, random_state=42)\n",
        "      clf = GradientBoostingClassifier().fit(X_train, y_train)\n",
        "      y_true = clf.predict(X_test)\n",
        "      score_LaplacianEigenmaps.append(f1_score(y_true, y_test, average='micro'))\n",
        "\n",
        "    model = DeepWalk(walk_number=10, walk_length=30, window_size=10, dimensions=16)\n",
        "    model.fit(graph)\n",
        "    emb = model.get_embedding() # 16d\n",
        "    bar.update(1)\n",
        "    for i in [0.99, 0.95, 0.9, 0.8, 0.7]:\n",
        "      X_train, X_test, y_train, y_test = train_test_split(emb, category_id, test_size=i, random_state=42)\n",
        "      clf = GradientBoostingClassifier().fit(X_train, y_train)\n",
        "      y_true = clf.predict(X_test)\n",
        "      score_DeepWalk.append(f1_score(y_true, y_test, average='micro'))\n",
        "\n",
        "    A = nx.to_numpy_array(graph)\n",
        "    model = TruncatedSVD(n_components=16)\n",
        "    emb = model.fit_transform(A)\n",
        "    bar.update(1)\n",
        "\n",
        "    for i in [0.99, 0.95, 0.9, 0.8, 0.7]:\n",
        "      X_train, X_test, y_train, y_test = train_test_split(emb, category_id, test_size=i, random_state=42)\n",
        "      clf = GradientBoostingClassifier().fit(X_train, y_train)\n",
        "      y_true = clf.predict(X_test)\n",
        "      score_TruncatedSVD.append(f1_score(y_true, y_test, average='micro'))\n",
        "\n",
        "    return [np.array(score_LaplacianEigenmaps), np.array(score_TruncatedSVD), np.array(score_DeepWalk), np.array(score_MeanWalklets)]"
      ]
    },
    {
      "cell_type": "code",
      "execution_count": null,
      "metadata": {
        "deletable": false,
        "editable": false,
        "nbgrader": {
          "cell_type": "code",
          "checksum": "2ce2cdad19bf2c5ae6dcfdbac55113e9",
          "grade": true,
          "grade_id": "cell-e2b5bae45ef6c5da",
          "locked": true,
          "points": 3,
          "schema_version": 3,
          "solution": false,
          "task": false
        },
        "id": "BCLq7RDzUuv1",
        "colab": {
          "base_uri": "https://localhost:8080/",
          "height": 49,
          "referenced_widgets": [
            "32134ef778764ddf95891a74ef1b6aca",
            "670b4dd8706c44478cb23a6db201b5e9",
            "97367018ae154ac8a0c7aa689ef37d75",
            "b6b05d2687994b2f870a52863252071e",
            "1235acc2aa4948949d579059dbf7a25d",
            "18ac06616d6c440ca5f86aa32b245f7e",
            "e81075b69751473eb7fe55aa330f8422",
            "72fe1380f37f4efbb8cf181a424a3dd0",
            "97b242c3314a4467a552cb73c0154df7",
            "cc110af44f504c7499fa10d56d0a65c6",
            "416407887dd74d9bbf945af512218cf5"
          ]
        },
        "outputId": "2434a2bf-32c2-46ae-bdb4-470d4844c27c"
      },
      "outputs": [
        {
          "output_type": "display_data",
          "data": {
            "text/plain": [
              "  0%|          | 0/4 [00:00<?, ?it/s]"
            ],
            "application/vnd.jupyter.widget-view+json": {
              "version_major": 2,
              "version_minor": 0,
              "model_id": "32134ef778764ddf95891a74ef1b6aca"
            }
          },
          "metadata": {}
        }
      ],
      "source": [
        "scores = embeddings_score(gcc_cora)\n",
        "scores = np.array(scores)\n",
        "assert scores.shape == (4, 5)\n",
        "assert scores.mean() > 0.5\n",
        "X = np.stack([np.ones(5), np.arange(5)], axis=1)\n",
        "y = scores.mean(axis=0)\n",
        "assert (np.linalg.inv(X.T @ X) @ X.T @ y)[0] > 0.4\n",
        "mean_res = scores.mean(axis=1)\n",
        "assert mean_res[0] > mean_res[3] > mean_res[1] > mean_res[2]"
      ]
    },
    {
      "cell_type": "code",
      "execution_count": null,
      "metadata": {
        "id": "cVrA2SNWUuv2",
        "colab": {
          "base_uri": "https://localhost:8080/",
          "height": 350
        },
        "outputId": "623ac446-49ba-461c-b935-c6333e767971"
      },
      "outputs": [
        {
          "output_type": "display_data",
          "data": {
            "text/plain": [
              "<Figure size 576x360 with 1 Axes>"
            ],
            "image/png": "[encoded data removed]"
          },
          "metadata": {
            "needs_background": "light"
          }
        }
      ],
      "source": [
        "plt.figure(figsize=(8, 5))\n",
        "labels = ['Laplacian Eigenmaps', 'Truncated SVD', 'DeepWalk', 'Walklets']\n",
        "for i, score in enumerate(scores):\n",
        "    plt.plot([0.99, 0.95, 0.9, 0.8, 0.7], score, label=labels[i])\n",
        "    plt.scatter([0.99, 0.95, 0.9, 0.8, 0.7], score)\n",
        "plt.legend()\n",
        "plt.title('Embedding algorithms quality')\n",
        "plt.xlabel('Test set size')\n",
        "plt.ylabel('Micro-F1 score')\n",
        "plt.gca().invert_xaxis()\n",
        "plt.show()"
      ]
    },
    {
      "cell_type": "markdown",
      "metadata": {
        "id": "4GnkuuN9Uuv3"
      },
      "source": [
        "### Task 3. Embedding dimensionality importance (3 points)"
      ]
    },
    {
      "cell_type": "code",
      "execution_count": null,
      "metadata": {
        "id": "fDlXTlqxUuv4"
      },
      "outputs": [],
      "source": [
        "!pip install gensim==4.0.0\n",
        "!pip install karateclub"
      ]
    },
    {
      "cell_type": "code",
      "execution_count": null,
      "metadata": {
        "id": "pthYXnexUuv5"
      },
      "outputs": [],
      "source": [
        "from gensim.models.word2vec import Word2Vec\n",
        "from karateclub import DeepWalk, Walklets, LaplacianEigenmaps"
      ]
    },
    {
      "cell_type": "markdown",
      "metadata": {
        "id": "yLAfzXj-Uuv6"
      },
      "source": [
        "Another important property of the embedding is an ability to represent nodes in low-dimensional space. It will be great to quickly compress the most important and drop all excess imformation. Let us check how the dimensionality affects to quality and time cost.\n",
        "\n",
        "Write a function `embeddings_dim` that takes a graph, computes embeddings, splits dataset into train and test sets with test size 0.95, computes Micro-F1 scores, time costs and returns a tuple:\n",
        "* list of lists:\n",
        "  * Micro-F1 score for 8d Laplacian Eigenmaps, Truncated SVD, DeepWalk, Walklets\n",
        "  * The same for 16d\n",
        "  * The same for 32d\n",
        "  * The same for 64d\n",
        "  * The same for 128d\n",
        "* list of lists:\n",
        "  * Time cost (seconds) for 8d Laplacian Eigenmaps, Truncated SVD, DeepWalk, Walklets\n",
        "  * The same for 16d\n",
        "  * The same for 32d\n",
        "  * The same for 64d\n",
        "  * The same for 128d\n",
        "\n",
        "*Hints:*\n",
        "* *Use `time()` to get a current time moment*\n",
        "* *It is ok if it takes about 4 minutes in Colab*\n",
        "\n",
        "Еще одним важным свойством встраивания является возможность представлять узлы в низкоразмерном пространстве. Будет здорово быстро сжать самое важное и отбросить всю лишнюю информацию. Проверим, как влияет размерность на качество и временные затраты.\n",
        "\n",
        "Напишите функцию `embeddings_dim`, которая берет график, вычисляет вложения, разбивает набор данных на обучающие и тестовые наборы с размером теста 0,95, вычисляет баллы Micro-F1, временные затраты и возвращает кортеж:\n",
        "* список списков:\n",
        "   * Оценка Micro-F1 для 8d лапласовских собственных карт, усеченного SVD, DeepWalk, Walklets\n",
        "   * То же для 16д\n",
        "   * То же для 32d\n",
        "   * То же самое для 64д\n",
        "   * То же для 128d\n",
        "* список списков:\n",
        "   * Затраты времени (секунды) для 8-дневных лапласовских собственных карт, усеченных SVD, DeepWalk, Walklets\n",
        "   * То же для 16д\n",
        "   * То же для 32d\n",
        "   * То же самое для 64д\n",
        "   * То же для 128d\n",
        "\n",
        "*Подсказки:*\n",
        "* *Используйте `time()`, чтобы получить текущий момент времени*\n",
        "* *Это нормально, если в Colab это займет около 4 минут*"
      ]
    },
    {
      "cell_type": "code",
      "source": [
        "import time\n",
        "\n",
        "start = time.time()\n",
        "print(\"hello\")\n",
        "end = time.time()\n",
        "print(end - start)"
      ],
      "metadata": {
        "colab": {
          "base_uri": "https://localhost:8080/"
        },
        "id": "aBFkC7nrV74f",
        "outputId": "ab13ee27-79f6-4940-b5b5-1a951827fef0"
      },
      "execution_count": null,
      "outputs": [
        {
          "output_type": "stream",
          "name": "stdout",
          "text": [
            "hello\n",
            "0.007895231246948242\n"
          ]
        }
      ]
    },
    {
      "cell_type": "code",
      "source": [
        "import time\n",
        "\n",
        "graph = gcc_cora.copy()\n",
        "bar = tqdm(total=20)\n",
        "score_MeanWalklets = []\n",
        "score_LaplacianEigenmaps = []\n",
        "score_DeepWalk = []\n",
        "score_TruncatedSVD = []\n",
        "\n",
        "time_MeanWalklets = []\n",
        "time_LaplacianEigenmaps = []\n",
        "time_DeepWalk = []\n",
        "time_TruncatedSVD = []\n",
        "\n",
        "for i in [8, 16, 32, 64, 128]:\n",
        "  start = time.time()\n",
        "  model = MeanWalklets(walk_number=10, walk_length=30, window_size=10, dimensions=i)\n",
        "  model.fit(graph)\n",
        "  emb = model.get_embedding() # 16d\n",
        "  bar.update(1)\n",
        "  X_train, X_test, y_train, y_test = train_test_split(emb, category_id, test_size=0.95, random_state=42)\n",
        "  clf = GradientBoostingClassifier().fit(X_train, y_train)\n",
        "  y_true = clf.predict(X_test)\n",
        "  score_MeanWalklets.append(f1_score(y_true, y_test, average='micro'))\n",
        "  end = time.time()\n",
        "  time_MeanWalklets.append(end - start)\n",
        "\n",
        "for i in [8, 16, 32, 64, 128]:\n",
        "  start = time.time()\n",
        "  model = LaplacianEigenmaps(dimensions=i)\n",
        "  model.fit(graph)\n",
        "  emb = model.get_embedding() # 16d\n",
        "  bar.update(1)\n",
        "  X_train, X_test, y_train, y_test = train_test_split(emb, category_id, test_size=0.95, random_state=42)\n",
        "  clf = GradientBoostingClassifier().fit(X_train, y_train)\n",
        "  y_true = clf.predict(X_test)\n",
        "  score_LaplacianEigenmaps.append(f1_score(y_true, y_test, average='micro'))\n",
        "  end = time.time()\n",
        "  time_LaplacianEigenmaps.append(end - start)\n",
        "\n",
        "for i in [8, 16, 32, 64, 128]:\n",
        "  start = time.time()\n",
        "  model = DeepWalk(walk_number=10, walk_length=30, window_size=10, dimensions=16)\n",
        "  model.fit(graph)\n",
        "  emb = model.get_embedding() # 16d\n",
        "  bar.update(1)\n",
        "  X_train, X_test, y_train, y_test = train_test_split(emb, category_id, test_size=0.95, random_state=42)\n",
        "  clf = GradientBoostingClassifier().fit(X_train, y_train)\n",
        "  y_true = clf.predict(X_test)\n",
        "  score_DeepWalk.append(f1_score(y_true, y_test, average='micro'))\n",
        "  end = time.time()\n",
        "  time_DeepWalk.append(end - start)\n",
        "\n",
        "A = nx.to_numpy_array(graph)\n",
        "for i in [8, 16, 32, 64, 128]:\n",
        "  start = time.time()  \n",
        "  model = TruncatedSVD(n_components=i)\n",
        "  emb = model.fit_transform(A)\n",
        "  bar.update(1)\n",
        "  X_train, X_test, y_train, y_test = train_test_split(emb, category_id, test_size=0.95, random_state=42)\n",
        "  clf = GradientBoostingClassifier().fit(X_train, y_train)\n",
        "  y_true = clf.predict(X_test)\n",
        "  score_TruncatedSVD.append(f1_score(y_true, y_test, average='micro'))\n",
        "  end = time.time()\n",
        "  time_TruncatedSVD.append(end - start)\n",
        "\n",
        "score = [[score_LaplacianEigenmaps[0], score_TruncatedSVD[0], score_DeepWalk[0], score_MeanWalklets[0]],\\\n",
        "[score_LaplacianEigenmaps[1], score_TruncatedSVD[1], score_DeepWalk[1], score_MeanWalklets[1]],\\\n",
        "[score_LaplacianEigenmaps[2], score_TruncatedSVD[2], score_DeepWalk[2], score_MeanWalklets[2]],\\\n",
        "[score_LaplacianEigenmaps[3], score_TruncatedSVD[3], score_DeepWalk[3], score_MeanWalklets[3]],\\\n",
        "[score_LaplacianEigenmaps[4], score_TruncatedSVD[4], score_DeepWalk[4], score_MeanWalklets[4]]]\n",
        "\n",
        "time = [[time_LaplacianEigenmaps[0], time_TruncatedSVD[0], time_DeepWalk[0], time_MeanWalklets[0]],\\\n",
        "[time_LaplacianEigenmaps[1], time_TruncatedSVD[1], time_DeepWalk[1], time_MeanWalklets[1]],\\\n",
        "[time_LaplacianEigenmaps[2], time_TruncatedSVD[2], time_DeepWalk[2], time_MeanWalklets[2]],\\\n",
        "[time_LaplacianEigenmaps[3], time_TruncatedSVD[3], time_DeepWalk[3], time_MeanWalklets[3]],\\\n",
        "[time_LaplacianEigenmaps[4], time_TruncatedSVD[4], time_DeepWalk[4], time_MeanWalklets[4]]]\n",
        "\n"
      ],
      "metadata": {
        "colab": {
          "base_uri": "https://localhost:8080/",
          "height": 49,
          "referenced_widgets": [
            "e1e97d8eaab7409a9dbb99cd0f7ba99b",
            "e5e0a41c7c974fd8b9590589e54559e0",
            "9e872aa8ecfd4977816f563257c22d1c",
            "77ad64afe7354cc785bcc2c5963fe7ca",
            "ca7892db7028453392a1f0cabfb5b8fb",
            "b231a05dea024540b62281841f55b5d0",
            "ddaa7fd5d3954d06b8b75bc83cb74e9a",
            "4fdc03d88cc7412d9d232386cb4d4bfc",
            "a064cc120c0a4e09880f86f034a6c6aa",
            "c65718e41dc941c09860e05ed4280849",
            "f4cce023b5ee43cfb7d58b018ada7355"
          ]
        },
        "id": "pc-0ma2WVbjt",
        "outputId": "e6bd3fdb-557f-45de-bae9-2455aadef047"
      },
      "execution_count": null,
      "outputs": [
        {
          "output_type": "display_data",
          "data": {
            "text/plain": [
              "  0%|          | 0/20 [00:00<?, ?it/s]"
            ],
            "application/vnd.jupyter.widget-view+json": {
              "version_major": 2,
              "version_minor": 0,
              "model_id": "e1e97d8eaab7409a9dbb99cd0f7ba99b"
            }
          },
          "metadata": {}
        }
      ]
    },
    {
      "cell_type": "code",
      "source": [
        "scores, time_cost = np.array(score), np.array(time)\n",
        "\n",
        "assert scores.shape == time_cost.shape == (5, 4)\n",
        "smean = scores.mean(axis=0)\n",
        "assert smean.argmin() == 2\n",
        "assert smean[1] < smean[0]\n",
        "assert smean[1] < smean[3]\n",
        "assert smean.mean() > 0.5\n",
        "tcmean = time_cost.mean(axis=0)\n",
        "assert tcmean.argmin() in [0, 1]\n",
        "assert tcmean.argmax() == 3\n",
        "assert time_cost[0, 0] < time_cost[-1, 0]"
      ],
      "metadata": {
        "id": "lEg9UMfKiM9U"
      },
      "execution_count": null,
      "outputs": []
    },
    {
      "cell_type": "code",
      "source": [
        "time_MeanWalklets"
      ],
      "metadata": {
        "colab": {
          "base_uri": "https://localhost:8080/"
        },
        "id": "eEATHadxZYgU",
        "outputId": "d6f58be7-b12c-47cc-92ee-528c50b86ae0"
      },
      "execution_count": null,
      "outputs": [
        {
          "output_type": "execute_result",
          "data": {
            "text/plain": [
              "[30.789907217025757,\n",
              " 28.634704113006592,\n",
              " 29.663451433181763,\n",
              " 34.068843841552734]"
            ]
          },
          "metadata": {},
          "execution_count": 92
        }
      ]
    },
    {
      "cell_type": "code",
      "source": [
        "score_MeanWalklets"
      ],
      "metadata": {
        "colab": {
          "base_uri": "https://localhost:8080/"
        },
        "id": "qmX0uGGUXtz2",
        "outputId": "55c1cd36-86d3-4316-97c1-f37045bb8757"
      },
      "execution_count": null,
      "outputs": [
        {
          "output_type": "execute_result",
          "data": {
            "text/plain": [
              "[0.6048284625158831,\n",
              " 0.6230410842863193,\n",
              " 0.6632782719186785,\n",
              " 0.6374417619652689]"
            ]
          },
          "metadata": {},
          "execution_count": 89
        }
      ]
    },
    {
      "cell_type": "code",
      "source": [
        "def embeddings_score(_graph):\n",
        "    graph = _graph.copy()\n",
        "    bar = tqdm(total=4)\n",
        "    score_MeanWalklets = []\n",
        "    score_LaplacianEigenmaps = []\n",
        "    score_DeepWalk = []\n",
        "    score_TruncatedSVD = []\n",
        "\n",
        "    model = MeanWalklets(walk_number=10, walk_length=30, window_size=10, dimensions=16)\n",
        "    model.fit(graph)\n",
        "    emb = model.get_embedding() # 16d\n",
        "    bar.update(1)\n",
        "\n",
        "    for i in [16, 32, 64, 128]:\n",
        "      model = MeanWalklets(walk_number=10, walk_length=30, window_size=10, dimensions=i)\n",
        "      model.fit(graph)\n",
        "      emb = model.get_embedding() # 16d\n",
        "      bar.update(1)\n",
        "      X_train, X_test, y_train, y_test = train_test_split(emb, category_id, test_size=0.95, random_state=42)\n",
        "      clf = GradientBoostingClassifier().fit(X_train, y_train)\n",
        "      y_true = clf.predict(X_test)\n",
        "      score_MeanWalklets.append(f1_score(y_true, y_test, average='micro'))\n",
        "\n",
        "    model = LaplacianEigenmaps(dimensions=16)\n",
        "    model.fit(graph)\n",
        "    emb = model.get_embedding() # 16d\n",
        "    bar.update(1)\n",
        "    for i in [0.99, 0.95, 0.9, 0.8, 0.7]:\n",
        "      X_train, X_test, y_train, y_test = train_test_split(emb, category_id, test_size=i, random_state=42)\n",
        "      clf = GradientBoostingClassifier().fit(X_train, y_train)\n",
        "      y_true = clf.predict(X_test)\n",
        "      score_LaplacianEigenmaps.append(f1_score(y_true, y_test, average='micro'))\n",
        "\n",
        "    model = DeepWalk(walk_number=10, walk_length=30, window_size=10, dimensions=16)\n",
        "    model.fit(graph)\n",
        "    emb = model.get_embedding() # 16d\n",
        "    bar.update(1)\n",
        "    for i in [0.99, 0.95, 0.9, 0.8, 0.7]:\n",
        "      X_train, X_test, y_train, y_test = train_test_split(emb, category_id, test_size=i, random_state=42)\n",
        "      clf = GradientBoostingClassifier().fit(X_train, y_train)\n",
        "      y_true = clf.predict(X_test)\n",
        "      score_DeepWalk.append(f1_score(y_true, y_test, average='micro'))\n",
        "\n",
        "    A = nx.to_numpy_array(graph)\n",
        "    model = TruncatedSVD(n_components=16)\n",
        "    emb = model.fit_transform(A)\n",
        "    bar.update(1)\n",
        "\n",
        "    for i in [0.99, 0.95, 0.9, 0.8, 0.7]:\n",
        "      X_train, X_test, y_train, y_test = train_test_split(emb, category_id, test_size=i, random_state=42)\n",
        "      clf = GradientBoostingClassifier().fit(X_train, y_train)\n",
        "      y_true = clf.predict(X_test)\n",
        "      score_TruncatedSVD.append(f1_score(y_true, y_test, average='micro'))\n",
        "\n",
        "    return [np.array(score_LaplacianEigenmaps), np.array(score_TruncatedSVD), np.array(score_DeepWalk), np.array(score_MeanWalklets)]"
      ],
      "metadata": {
        "id": "N2ZiES6YU5oY"
      },
      "execution_count": null,
      "outputs": []
    },
    {
      "cell_type": "code",
      "execution_count": null,
      "metadata": {
        "deletable": false,
        "nbgrader": {
          "cell_type": "code",
          "checksum": "8b9a4a6d0fac691fa412c69b9529bda3",
          "grade": false,
          "grade_id": "cell-e039ba7855f9792c",
          "locked": false,
          "schema_version": 3,
          "solution": true,
          "task": false
        },
        "id": "Qk8GOamvUuv7"
      },
      "outputs": [],
      "source": [
        "def embeddings_dim(_graph):\n",
        "  import time\n",
        "\n",
        "  graph = gcc_cora.copy()\n",
        "  bar = tqdm(total=20)\n",
        "  score_MeanWalklets = []\n",
        "  score_LaplacianEigenmaps = []\n",
        "  score_DeepWalk = []\n",
        "  score_TruncatedSVD = []\n",
        "\n",
        "  time_MeanWalklets = []\n",
        "  time_LaplacianEigenmaps = []\n",
        "  time_DeepWalk = []\n",
        "  time_TruncatedSVD = []\n",
        "\n",
        "  for i in [8, 16, 32, 64, 128]:\n",
        "    start = time.time()\n",
        "    model = MeanWalklets(walk_number=10, walk_length=30, window_size=10, dimensions=i)\n",
        "    model.fit(graph)\n",
        "    emb = model.get_embedding() # 16d\n",
        "    bar.update(1)\n",
        "    X_train, X_test, y_train, y_test = train_test_split(emb, category_id, test_size=0.95, random_state=42)\n",
        "    clf = GradientBoostingClassifier().fit(X_train, y_train)\n",
        "    y_true = clf.predict(X_test)\n",
        "    score_MeanWalklets.append(f1_score(y_true, y_test, average='micro'))\n",
        "    end = time.time()\n",
        "    time_MeanWalklets.append(end - start)\n",
        "\n",
        "  for i in [8, 16, 32, 64, 128]:\n",
        "    start = time.time()\n",
        "    model = LaplacianEigenmaps(dimensions=i)\n",
        "    model.fit(graph)\n",
        "    emb = model.get_embedding() # 16d\n",
        "    bar.update(1)\n",
        "    X_train, X_test, y_train, y_test = train_test_split(emb, category_id, test_size=0.95, random_state=42)\n",
        "    clf = GradientBoostingClassifier().fit(X_train, y_train)\n",
        "    y_true = clf.predict(X_test)\n",
        "    score_LaplacianEigenmaps.append(f1_score(y_true, y_test, average='micro'))\n",
        "    end = time.time()\n",
        "    time_LaplacianEigenmaps.append(end - start)\n",
        "\n",
        "  for i in [8, 16, 32, 64, 128]:\n",
        "    start = time.time()\n",
        "    model = DeepWalk(walk_number=10, walk_length=30, window_size=10, dimensions=16)\n",
        "    model.fit(graph)\n",
        "    emb = model.get_embedding() # 16d\n",
        "    bar.update(1)\n",
        "    X_train, X_test, y_train, y_test = train_test_split(emb, category_id, test_size=0.95, random_state=42)\n",
        "    clf = GradientBoostingClassifier().fit(X_train, y_train)\n",
        "    y_true = clf.predict(X_test)\n",
        "    score_DeepWalk.append(f1_score(y_true, y_test, average='micro'))\n",
        "    end = time.time()\n",
        "    time_DeepWalk.append(end - start)\n",
        "\n",
        "  A = nx.to_numpy_array(graph)\n",
        "  for i in [8, 16, 32, 64, 128]:\n",
        "    start = time.time()  \n",
        "    model = TruncatedSVD(n_components=i)\n",
        "    emb = model.fit_transform(A)\n",
        "    bar.update(1)\n",
        "    X_train, X_test, y_train, y_test = train_test_split(emb, category_id, test_size=0.95, random_state=42)\n",
        "    clf = GradientBoostingClassifier().fit(X_train, y_train)\n",
        "    y_true = clf.predict(X_test)\n",
        "    score_TruncatedSVD.append(f1_score(y_true, y_test, average='micro'))\n",
        "    end = time.time()\n",
        "    time_TruncatedSVD.append(end - start)\n",
        "\n",
        "  score = [[score_LaplacianEigenmaps[0], score_TruncatedSVD[0], score_DeepWalk[0], score_MeanWalklets[0]],\\\n",
        "  [score_LaplacianEigenmaps[1], score_TruncatedSVD[1], score_DeepWalk[1], score_MeanWalklets[1]],\\\n",
        "  [score_LaplacianEigenmaps[2], score_TruncatedSVD[2], score_DeepWalk[2], score_MeanWalklets[2]],\\\n",
        "  [score_LaplacianEigenmaps[3], score_TruncatedSVD[3], score_DeepWalk[3], score_MeanWalklets[3]],\\\n",
        "  [score_LaplacianEigenmaps[4], score_TruncatedSVD[4], score_DeepWalk[4], score_MeanWalklets[4]]]\n",
        "\n",
        "  time = [[time_LaplacianEigenmaps[0], time_TruncatedSVD[0], time_DeepWalk[0], time_MeanWalklets[0]],\\\n",
        "  [time_LaplacianEigenmaps[1], time_TruncatedSVD[1], time_DeepWalk[1], time_MeanWalklets[1]],\\\n",
        "  [time_LaplacianEigenmaps[2], time_TruncatedSVD[2], time_DeepWalk[2], time_MeanWalklets[2]],\\\n",
        "  [time_LaplacianEigenmaps[3], time_TruncatedSVD[3], time_DeepWalk[3], time_MeanWalklets[3]],\\\n",
        "  [time_LaplacianEigenmaps[4], time_TruncatedSVD[4], time_DeepWalk[4], time_MeanWalklets[4]]]\n",
        "\n",
        "  return score, time"
      ]
    },
    {
      "cell_type": "code",
      "execution_count": null,
      "metadata": {
        "deletable": false,
        "editable": false,
        "nbgrader": {
          "cell_type": "code",
          "checksum": "e1236e7cd77a3a9361d6c065e0cb58cb",
          "grade": true,
          "grade_id": "cell-60b4e70331597579",
          "locked": true,
          "points": 3,
          "schema_version": 3,
          "solution": false,
          "task": false
        },
        "id": "-Ak-5kpRUuv9",
        "colab": {
          "base_uri": "https://localhost:8080/",
          "height": 49,
          "referenced_widgets": [
            "1ca8b7e19b0849c8b29f908cb0989e0b",
            "278f0760679e40cdb7dab62ac474f687",
            "9292b2d7b4e343d5837fa8ae21765836",
            "6ececacbfd4c4bcda3919d4de065e964",
            "d436f4a8f5c34d5d98d58439c4883fb8",
            "31d34f889b74415f81dd5f0b4c8b7b85",
            "21d58b5f323648aa9c926f0dae57a260",
            "d41f842043b74fc69a1c07694a6d93e4",
            "16c3ec1f7f874569bcd037f74e8b0721",
            "ebdb6f34a3624ca8b8a24aea68739204",
            "7b51e1c4d35f4262b25a33f2fbce5b2f"
          ]
        },
        "outputId": "5f3f49b3-6d2c-44e8-b7a1-cfde2bc3f8bf"
      },
      "outputs": [
        {
          "output_type": "display_data",
          "data": {
            "text/plain": [
              "  0%|          | 0/20 [00:00<?, ?it/s]"
            ],
            "application/vnd.jupyter.widget-view+json": {
              "version_major": 2,
              "version_minor": 0,
              "model_id": "1ca8b7e19b0849c8b29f908cb0989e0b"
            }
          },
          "metadata": {}
        }
      ],
      "source": [
        "scores, time_cost = embeddings_dim(gcc_cora)\n",
        "scores, time_cost = np.array(scores), np.array(time_cost)\n",
        "assert scores.shape == time_cost.shape == (5, 4)\n",
        "smean = scores.mean(axis=0)\n",
        "assert smean.argmin() == 2\n",
        "assert smean[1] < smean[0]\n",
        "assert smean[1] < smean[3]\n",
        "assert smean.mean() > 0.5\n",
        "tcmean = time_cost.mean(axis=0)\n",
        "assert tcmean.argmin() in [0, 1]\n",
        "assert tcmean.argmax() == 3\n",
        "assert time_cost[0, 0] < time_cost[-1, 0]"
      ]
    },
    {
      "cell_type": "code",
      "execution_count": null,
      "metadata": {
        "id": "fWZLVORwUuv9",
        "colab": {
          "base_uri": "https://localhost:8080/",
          "height": 689
        },
        "outputId": "699030c3-d079-4571-d6ac-1c360ca4cb0a"
      },
      "outputs": [
        {
          "output_type": "display_data",
          "data": {
            "text/plain": [
              "<Figure size 576x360 with 1 Axes>"
            ],
            "image/png": "[encoded data removed]"
          },
          "metadata": {
            "needs_background": "light"
          }
        },
        {
          "output_type": "display_data",
          "data": {
            "text/plain": [
              "<Figure size 576x360 with 1 Axes>"
            ],
            "image/png": "[encoded data removed]"
          },
          "metadata": {
            "needs_background": "light"
          }
        }
      ],
      "source": [
        "plt.figure(figsize=(8, 5))\n",
        "labels = ['Laplacian Eigenmaps', 'Truncated SVD', 'DeepWalk', 'Walklets']\n",
        "for i, score in enumerate(scores.T):\n",
        "    plt.plot([8, 16, 32, 64, 128], score, label=labels[i])\n",
        "    plt.scatter([8, 16, 32, 64, 128], score)\n",
        "plt.legend()\n",
        "plt.xscale('log', basex=2)\n",
        "plt.xlabel('Dimensionality')\n",
        "plt.ylabel('Micro-F1 score')\n",
        "plt.title('Dimensionality vs score')\n",
        "plt.show()\n",
        "\n",
        "plt.figure(figsize=(8, 5))\n",
        "for i, cost in enumerate(time_cost.T):\n",
        "    plt.plot([8, 16, 32, 64, 128], cost, label=labels[i])\n",
        "    plt.scatter([8, 16, 32, 64, 128], cost)\n",
        "plt.legend()\n",
        "plt.xscale('log', basex=2)\n",
        "plt.yscale('log', basey=2)\n",
        "plt.xlabel('Dimensionality')\n",
        "plt.ylabel('Time cost (seconds)')\n",
        "plt.title('Dimensionality vs time cost')\n",
        "plt.show()"
      ]
    },
    {
      "cell_type": "markdown",
      "metadata": {
        "id": "EJr7yqdYUuv_"
      },
      "source": [
        "### Task 4. Node2Vec model (4 points)"
      ]
    },
    {
      "cell_type": "code",
      "execution_count": null,
      "metadata": {
        "id": "SJnqEeu9UuwA"
      },
      "outputs": [],
      "source": [
        "!pip install gensim==4.0.0"
      ]
    },
    {
      "cell_type": "code",
      "execution_count": null,
      "metadata": {
        "id": "e_Zkd7IqUuwA"
      },
      "outputs": [],
      "source": [
        "from gensim.models.word2vec import Word2Vec"
      ]
    },
    {
      "cell_type": "markdown",
      "metadata": {
        "id": "uxfe-eDtUuwB"
      },
      "source": [
        "In this task, we will consider Node2Vec embedding algorithm. In Node2Vec, we learn a mapping of nodes to a low-dimensional space of features that maximizes the likelihood of preserving network neighborhoods of nodes. It is similar to the DeepWalk, but used *biased random walk procedure* which efficiently explores diverse neighborhoods. There are two parameters:\n",
        "\n",
        "* Return parameter $p$ controls the likelihood of immediately revisiting a node in the walk. Setting it to a high value ensures that we are less likely to sample an already-visited node in the following two steps.\n",
        "\n",
        "* In-out parameter $q$ allows the search to differentiate between “inward” and “outward” nodes. If $q > 1$, the random walk is biased towards nodes close to previous node. In contrast, if $q < 1$, the walk is more inclined to visit nodes which are further away from the previous node."
      ]
    },
    {
      "cell_type": "markdown",
      "metadata": {
        "id": "0uhvxhbrUuwC"
      },
      "source": [
        "<img src='https://raw.githubusercontent.com/netspractice/network-science/main/images/node_embedding.png' width=300>"
      ]
    },
    {
      "cell_type": "markdown",
      "metadata": {
        "id": "cumd9rjnUuwD"
      },
      "source": [
        "For example, we just moved from the node $t$ to $v$ and now we want to decide on the next step so it evaluates the transition probabilities on edges ($v$, $x$) leading from $v$. Then the *unnormalized* probability is\n",
        "\n",
        "$$\\alpha = \\begin{cases}\n",
        "\\frac{1}{p} &  \\text{ if } d_{tx} = 0\\\\\n",
        "1 & \\text{ if } d_{tx} = 1\\\\\n",
        "\\frac{1}{q} & \\text{ if } d_{tx} = 2\\\\\n",
        "\\end{cases}$$\n",
        "\n",
        "where $d_{tx}$ is the shortest path distance between nodes $t$ and $x$. To compute the true probability, we need to normalize values so that the sum is 1.\n",
        "\n",
        "Write a function `biased_random_walk` that takes a graph, node for which we start random walk, length of walk, parameters `p` and `q` and returns a list with a random walk."
      ]
    },
    {
      "cell_type": "code",
      "execution_count": null,
      "metadata": {
        "deletable": false,
        "nbgrader": {
          "cell_type": "code",
          "checksum": "c3969a9f986a4f1865096bf05e04db42",
          "grade": false,
          "grade_id": "cell-3e6acfc34a7f8627",
          "locked": false,
          "schema_version": 3,
          "solution": true,
          "task": false
        },
        "id": "JmgABZ2XUuwE"
      },
      "outputs": [],
      "source": [
        "def biased_random_walk(G, node, path_length, p, q):\n",
        "    # YOUR CODE HERE\n",
        "    raise NotImplementedError()"
      ]
    },
    {
      "cell_type": "code",
      "execution_count": null,
      "metadata": {
        "deletable": false,
        "editable": false,
        "nbgrader": {
          "cell_type": "code",
          "checksum": "0da66e955cfde05f81a26df314d222af",
          "grade": true,
          "grade_id": "cell-146532f00986acf1",
          "locked": true,
          "points": 1.33,
          "schema_version": 3,
          "solution": false,
          "task": false
        },
        "id": "gTD9XZYmUuwJ"
      },
      "outputs": [],
      "source": [
        "rw = biased_random_walk(gcc_cora, 0, 10, 0.1, 0.5)\n",
        "assert len(rw) == 10\n",
        "rw = biased_random_walk(gcc_cora, node=0, path_length=4, p=0.001, q=1000)\n",
        "assert rw[0] == rw[2]\n",
        "assert rw[1] == rw[3]\n",
        "rw = biased_random_walk(gcc_cora, node=0, path_length=4, p=1000, q=0.001)\n",
        "assert len(set(rw)) >= 3"
      ]
    },
    {
      "cell_type": "markdown",
      "metadata": {
        "id": "RaMqgvxjUuwN"
      },
      "source": [
        "Here are auxiliary methods that generates biased random walks and encode this walks using Word2Vec model."
      ]
    },
    {
      "cell_type": "code",
      "execution_count": null,
      "metadata": {
        "deletable": false,
        "editable": false,
        "nbgrader": {
          "cell_type": "code",
          "checksum": "052df1277612b7f9ab114cc333045002",
          "grade": false,
          "grade_id": "cell-8a2e43b862b373da",
          "locked": true,
          "schema_version": 3,
          "solution": false,
          "task": false
        },
        "id": "x2zdZQFxUuwO"
      },
      "outputs": [],
      "source": [
        "def biased_random_walks(G, walk_number, walk_length, p, q):\n",
        "    walks = []\n",
        "    for node in tqdm(G.nodes):\n",
        "        for _ in range(walk_number):\n",
        "            walk_from_node = biased_random_walk(G, node, walk_length, p, q)\n",
        "            walks.append(walk_from_node)\n",
        "    return np.array(walks)\n",
        "\n",
        "def node2vec_encode(G, walks, dimensions, window_size):\n",
        "    walks_str = walks.astype('str').tolist()\n",
        "    model = Word2Vec(walks_str, vector_size=dimensions, hs=1, sg=1, \n",
        "                     alpha=0.05, epochs=1, window=window_size, )\n",
        "    embedding = np.array([model.wv[str(n)] for n in range(len(G))])\n",
        "    return embedding"
      ]
    },
    {
      "cell_type": "code",
      "execution_count": null,
      "metadata": {
        "deletable": false,
        "editable": false,
        "nbgrader": {
          "cell_type": "code",
          "checksum": "2bd9d1b2fc152f8ecd0f12a2ad3eb2d5",
          "grade": true,
          "grade_id": "cell-03d420988ac76488",
          "locked": true,
          "points": 1.33,
          "schema_version": 3,
          "solution": false,
          "task": false
        },
        "id": "TOFO1kwuUuwP"
      },
      "outputs": [],
      "source": [
        "rws = biased_random_walks(gcc_cora, walk_number=10, walk_length=30, p=0.25, q=0.5)\n",
        "emb = node2vec_encode(gcc_cora, walks=rws, dimensions=16, window_size=10)\n",
        "assert emb.shape == (2485, 16)"
      ]
    },
    {
      "cell_type": "markdown",
      "metadata": {
        "id": "k_UrM0FoUuwQ"
      },
      "source": [
        "Write a function `grid_search_pq`. Using 0.95 test set size, run the grid search for `GradientBoostingClassifier` and find the best values for $p, q \\in \\{0.25, 0.50, 1, 2, 4\\}$ with respect to Micro-F1 score. Return the best $p, q$.\n",
        "\n",
        "*Hints:*\n",
        "* *Suggested hyperparameters are `walk_number=10`, `walk_length=30`, `window_size=10`, `dimensions=16`*\n",
        "* *To pass time limits, calculate the best `p` and `q` and then rewrite the function as*\n",
        "\n",
        "```python\n",
        "def grid_search_pq(graph):\n",
        "    return best_p, best_q\n",
        "```"
      ]
    },
    {
      "cell_type": "code",
      "execution_count": null,
      "metadata": {
        "deletable": false,
        "nbgrader": {
          "cell_type": "code",
          "checksum": "0422943692188f6966386fc93307449f",
          "grade": false,
          "grade_id": "cell-e01b1458086e8b5a",
          "locked": false,
          "schema_version": 3,
          "solution": true,
          "task": false
        },
        "id": "wmgbmhKkUuwR"
      },
      "outputs": [],
      "source": [
        "def grid_search_pq(graph):\n",
        "    # YOUR CODE HERE\n",
        "    raise NotImplementedError()"
      ]
    },
    {
      "cell_type": "code",
      "execution_count": null,
      "metadata": {
        "deletable": false,
        "editable": false,
        "nbgrader": {
          "cell_type": "code",
          "checksum": "1e98e3b9e5d1c1be59d46becfff8db28",
          "grade": true,
          "grade_id": "cell-d56cadb33744b38c",
          "locked": true,
          "points": 1.3399999999999999,
          "schema_version": 3,
          "solution": false,
          "task": false
        },
        "id": "G0zs0DKwUuwS"
      },
      "outputs": [],
      "source": [
        "best_p, best_q = grid_search_pq(gcc_cora)\n",
        "rws = biased_random_walks(gcc_cora, walk_number=10, walk_length=30, p=best_p, q=best_q)\n",
        "emb = node2vec_encode(gcc_cora, walks=rws, dimensions=16, window_size=10)\n",
        "category_id = nx.get_node_attributes(gcc_cora, 'category')\n",
        "category_id = list(category_id.values())\n",
        "X_train, X_test, y_train, y_test = train_test_split(emb, category_id, test_size=0.95, random_state=0)\n",
        "clf = GradientBoostingClassifier()\n",
        "clf.fit(X_train, y_train)\n",
        "y_pred = clf.predict(X_test)\n",
        "assert f1_score(y_test, y_pred, average='micro') > 0.65"
      ]
    },
    {
      "cell_type": "code",
      "execution_count": null,
      "metadata": {
        "id": "Q6NM-7wbUuwS"
      },
      "outputs": [],
      "source": [
        "plt.figure(figsize=(8, 6))\n",
        "model = PCA(n_components=2)\n",
        "model.fit(emb)\n",
        "emb = model.transform(emb)\n",
        "plt.scatter(emb[:, 0], emb[:, 1], c=category_id, cmap=plt.cm.Set1, s=10)\n",
        "plt.title('Node2Vec')\n",
        "plt.show()"
      ]
    },
    {
      "cell_type": "code",
      "execution_count": null,
      "metadata": {
        "id": "HV-TUs0AUuwT"
      },
      "outputs": [],
      "source": []
    }
  ],
  "metadata": {
    "kernelspec": {
      "display_name": "Python 3",
      "language": "python",
      "name": "python3"
    },
    "language_info": {
      "codemirror_mode": {
        "name": "ipython",
        "version": 3
      },
      "file_extension": ".py",
      "mimetype": "text/x-python",
      "name": "python",
      "nbconvert_exporter": "python",
      "pygments_lexer": "ipython3",
      "version": "3.7.4"
    },
    "colab": {
      "provenance": []
    },
    "widgets": {
      "application/vnd.jupyter.widget-state+json": {
        "ee6ceb41c2134fc4a3f3ed02d9bffbbd": {
          "model_module": "@jupyter-widgets/controls",
          "model_name": "HBoxModel",
          "model_module_version": "1.5.0",
          "state": {
            "_dom_classes": [],
            "_model_module": "@jupyter-widgets/controls",
            "_model_module_version": "1.5.0",
            "_model_name": "HBoxModel",
            "_view_count": null,
            "_view_module": "@jupyter-widgets/controls",
            "_view_module_version": "1.5.0",
            "_view_name": "HBoxView",
            "box_style": "",
            "children": [
              "IPY_MODEL_b16d0c790b1c490ea642416eebaeced3",
              "IPY_MODEL_1083e1f62b2c4d41837d867f529ff943",
              "IPY_MODEL_c6143870274a4d5b8520123984fc1bd1"
            ],
            "layout": "IPY_MODEL_367e9702e223479d9a9d733d053e311f"
          }
        },
        "b16d0c790b1c490ea642416eebaeced3": {
          "model_module": "@jupyter-widgets/controls",
          "model_name": "HTMLModel",
          "model_module_version": "1.5.0",
          "state": {
            "_dom_classes": [],
            "_model_module": "@jupyter-widgets/controls",
            "_model_module_version": "1.5.0",
            "_model_name": "HTMLModel",
            "_view_count": null,
            "_view_module": "@jupyter-widgets/controls",
            "_view_module_version": "1.5.0",
            "_view_name": "HTMLView",
            "description": "",
            "description_tooltip": null,
            "layout": "IPY_MODEL_eae002807b2e4abfa730fb8f76f84cb1",
            "placeholder": "​",
            "style": "IPY_MODEL_acb4aa1c144f42049c0d92566eee8004",
            "value": "100%"
          }
        },
        "1083e1f62b2c4d41837d867f529ff943": {
          "model_module": "@jupyter-widgets/controls",
          "model_name": "FloatProgressModel",
          "model_module_version": "1.5.0",
          "state": {
            "_dom_classes": [],
            "_model_module": "@jupyter-widgets/controls",
            "_model_module_version": "1.5.0",
            "_model_name": "FloatProgressModel",
            "_view_count": null,
            "_view_module": "@jupyter-widgets/controls",
            "_view_module_version": "1.5.0",
            "_view_name": "ProgressView",
            "bar_style": "success",
            "description": "",
            "description_tooltip": null,
            "layout": "IPY_MODEL_dac165ea1b1f4e4ab77ef52e9df4b174",
            "max": 4,
            "min": 0,
            "orientation": "horizontal",
            "style": "IPY_MODEL_b04b8f46b5ee4253ab2bb5c4710a0150",
            "value": 4
          }
        },
        "c6143870274a4d5b8520123984fc1bd1": {
          "model_module": "@jupyter-widgets/controls",
          "model_name": "HTMLModel",
          "model_module_version": "1.5.0",
          "state": {
            "_dom_classes": [],
            "_model_module": "@jupyter-widgets/controls",
            "_model_module_version": "1.5.0",
            "_model_name": "HTMLModel",
            "_view_count": null,
            "_view_module": "@jupyter-widgets/controls",
            "_view_module_version": "1.5.0",
            "_view_name": "HTMLView",
            "description": "",
            "description_tooltip": null,
            "layout": "IPY_MODEL_4563c4fd125d49879fa3912283ab05c6",
            "placeholder": "​",
            "style": "IPY_MODEL_92fae0906b974ebcb983baea1bcb08fc",
            "value": " 4/4 [2:10:39&lt;00:00,  5.97s/it]"
          }
        },
        "367e9702e223479d9a9d733d053e311f": {
          "model_module": "@jupyter-widgets/base",
          "model_name": "LayoutModel",
          "model_module_version": "1.2.0",
          "state": {
            "_model_module": "@jupyter-widgets/base",
            "_model_module_version": "1.2.0",
            "_model_name": "LayoutModel",
            "_view_count": null,
            "_view_module": "@jupyter-widgets/base",
            "_view_module_version": "1.2.0",
            "_view_name": "LayoutView",
            "align_content": null,
            "align_items": null,
            "align_self": null,
            "border": null,
            "bottom": null,
            "display": null,
            "flex": null,
            "flex_flow": null,
            "grid_area": null,
            "grid_auto_columns": null,
            "grid_auto_flow": null,
            "grid_auto_rows": null,
            "grid_column": null,
            "grid_gap": null,
            "grid_row": null,
            "grid_template_areas": null,
            "grid_template_columns": null,
            "grid_template_rows": null,
            "height": null,
            "justify_content": null,
            "justify_items": null,
            "left": null,
            "margin": null,
            "max_height": null,
            "max_width": null,
            "min_height": null,
            "min_width": null,
            "object_fit": null,
            "object_position": null,
            "order": null,
            "overflow": null,
            "overflow_x": null,
            "overflow_y": null,
            "padding": null,
            "right": null,
            "top": null,
            "visibility": null,
            "width": null
          }
        },
        "eae002807b2e4abfa730fb8f76f84cb1": {
          "model_module": "@jupyter-widgets/base",
          "model_name": "LayoutModel",
          "model_module_version": "1.2.0",
          "state": {
            "_model_module": "@jupyter-widgets/base",
            "_model_module_version": "1.2.0",
            "_model_name": "LayoutModel",
            "_view_count": null,
            "_view_module": "@jupyter-widgets/base",
            "_view_module_version": "1.2.0",
            "_view_name": "LayoutView",
            "align_content": null,
            "align_items": null,
            "align_self": null,
            "border": null,
            "bottom": null,
            "display": null,
            "flex": null,
            "flex_flow": null,
            "grid_area": null,
            "grid_auto_columns": null,
            "grid_auto_flow": null,
            "grid_auto_rows": null,
            "grid_column": null,
            "grid_gap": null,
            "grid_row": null,
            "grid_template_areas": null,
            "grid_template_columns": null,
            "grid_template_rows": null,
            "height": null,
            "justify_content": null,
            "justify_items": null,
            "left": null,
            "margin": null,
            "max_height": null,
            "max_width": null,
            "min_height": null,
            "min_width": null,
            "object_fit": null,
            "object_position": null,
            "order": null,
            "overflow": null,
            "overflow_x": null,
            "overflow_y": null,
            "padding": null,
            "right": null,
            "top": null,
            "visibility": null,
            "width": null
          }
        },
        "acb4aa1c144f42049c0d92566eee8004": {
          "model_module": "@jupyter-widgets/controls",
          "model_name": "DescriptionStyleModel",
          "model_module_version": "1.5.0",
          "state": {
            "_model_module": "@jupyter-widgets/controls",
            "_model_module_version": "1.5.0",
            "_model_name": "DescriptionStyleModel",
            "_view_count": null,
            "_view_module": "@jupyter-widgets/base",
            "_view_module_version": "1.2.0",
            "_view_name": "StyleView",
            "description_width": ""
          }
        },
        "dac165ea1b1f4e4ab77ef52e9df4b174": {
          "model_module": "@jupyter-widgets/base",
          "model_name": "LayoutModel",
          "model_module_version": "1.2.0",
          "state": {
            "_model_module": "@jupyter-widgets/base",
            "_model_module_version": "1.2.0",
            "_model_name": "LayoutModel",
            "_view_count": null,
            "_view_module": "@jupyter-widgets/base",
            "_view_module_version": "1.2.0",
            "_view_name": "LayoutView",
            "align_content": null,
            "align_items": null,
            "align_self": null,
            "border": null,
            "bottom": null,
            "display": null,
            "flex": null,
            "flex_flow": null,
            "grid_area": null,
            "grid_auto_columns": null,
            "grid_auto_flow": null,
            "grid_auto_rows": null,
            "grid_column": null,
            "grid_gap": null,
            "grid_row": null,
            "grid_template_areas": null,
            "grid_template_columns": null,
            "grid_template_rows": null,
            "height": null,
            "justify_content": null,
            "justify_items": null,
            "left": null,
            "margin": null,
            "max_height": null,
            "max_width": null,
            "min_height": null,
            "min_width": null,
            "object_fit": null,
            "object_position": null,
            "order": null,
            "overflow": null,
            "overflow_x": null,
            "overflow_y": null,
            "padding": null,
            "right": null,
            "top": null,
            "visibility": null,
            "width": null
          }
        },
        "b04b8f46b5ee4253ab2bb5c4710a0150": {
          "model_module": "@jupyter-widgets/controls",
          "model_name": "ProgressStyleModel",
          "model_module_version": "1.5.0",
          "state": {
            "_model_module": "@jupyter-widgets/controls",
            "_model_module_version": "1.5.0",
            "_model_name": "ProgressStyleModel",
            "_view_count": null,
            "_view_module": "@jupyter-widgets/base",
            "_view_module_version": "1.2.0",
            "_view_name": "StyleView",
            "bar_color": null,
            "description_width": ""
          }
        },
        "4563c4fd125d49879fa3912283ab05c6": {
          "model_module": "@jupyter-widgets/base",
          "model_name": "LayoutModel",
          "model_module_version": "1.2.0",
          "state": {
            "_model_module": "@jupyter-widgets/base",
            "_model_module_version": "1.2.0",
            "_model_name": "LayoutModel",
            "_view_count": null,
            "_view_module": "@jupyter-widgets/base",
            "_view_module_version": "1.2.0",
            "_view_name": "LayoutView",
            "align_content": null,
            "align_items": null,
            "align_self": null,
            "border": null,
            "bottom": null,
            "display": null,
            "flex": null,
            "flex_flow": null,
            "grid_area": null,
            "grid_auto_columns": null,
            "grid_auto_flow": null,
            "grid_auto_rows": null,
            "grid_column": null,
            "grid_gap": null,
            "grid_row": null,
            "grid_template_areas": null,
            "grid_template_columns": null,
            "grid_template_rows": null,
            "height": null,
            "justify_content": null,
            "justify_items": null,
            "left": null,
            "margin": null,
            "max_height": null,
            "max_width": null,
            "min_height": null,
            "min_width": null,
            "object_fit": null,
            "object_position": null,
            "order": null,
            "overflow": null,
            "overflow_x": null,
            "overflow_y": null,
            "padding": null,
            "right": null,
            "top": null,
            "visibility": null,
            "width": null
          }
        },
        "92fae0906b974ebcb983baea1bcb08fc": {
          "model_module": "@jupyter-widgets/controls",
          "model_name": "DescriptionStyleModel",
          "model_module_version": "1.5.0",
          "state": {
            "_model_module": "@jupyter-widgets/controls",
            "_model_module_version": "1.5.0",
            "_model_name": "DescriptionStyleModel",
            "_view_count": null,
            "_view_module": "@jupyter-widgets/base",
            "_view_module_version": "1.2.0",
            "_view_name": "StyleView",
            "description_width": ""
          }
        },
        "32134ef778764ddf95891a74ef1b6aca": {
          "model_module": "@jupyter-widgets/controls",
          "model_name": "HBoxModel",
          "model_module_version": "1.5.0",
          "state": {
            "_dom_classes": [],
            "_model_module": "@jupyter-widgets/controls",
            "_model_module_version": "1.5.0",
            "_model_name": "HBoxModel",
            "_view_count": null,
            "_view_module": "@jupyter-widgets/controls",
            "_view_module_version": "1.5.0",
            "_view_name": "HBoxView",
            "box_style": "",
            "children": [
              "IPY_MODEL_670b4dd8706c44478cb23a6db201b5e9",
              "IPY_MODEL_97367018ae154ac8a0c7aa689ef37d75",
              "IPY_MODEL_b6b05d2687994b2f870a52863252071e"
            ],
            "layout": "IPY_MODEL_1235acc2aa4948949d579059dbf7a25d"
          }
        },
        "670b4dd8706c44478cb23a6db201b5e9": {
          "model_module": "@jupyter-widgets/controls",
          "model_name": "HTMLModel",
          "model_module_version": "1.5.0",
          "state": {
            "_dom_classes": [],
            "_model_module": "@jupyter-widgets/controls",
            "_model_module_version": "1.5.0",
            "_model_name": "HTMLModel",
            "_view_count": null,
            "_view_module": "@jupyter-widgets/controls",
            "_view_module_version": "1.5.0",
            "_view_name": "HTMLView",
            "description": "",
            "description_tooltip": null,
            "layout": "IPY_MODEL_18ac06616d6c440ca5f86aa32b245f7e",
            "placeholder": "​",
            "style": "IPY_MODEL_e81075b69751473eb7fe55aa330f8422",
            "value": "100%"
          }
        },
        "97367018ae154ac8a0c7aa689ef37d75": {
          "model_module": "@jupyter-widgets/controls",
          "model_name": "FloatProgressModel",
          "model_module_version": "1.5.0",
          "state": {
            "_dom_classes": [],
            "_model_module": "@jupyter-widgets/controls",
            "_model_module_version": "1.5.0",
            "_model_name": "FloatProgressModel",
            "_view_count": null,
            "_view_module": "@jupyter-widgets/controls",
            "_view_module_version": "1.5.0",
            "_view_name": "ProgressView",
            "bar_style": "success",
            "description": "",
            "description_tooltip": null,
            "layout": "IPY_MODEL_72fe1380f37f4efbb8cf181a424a3dd0",
            "max": 4,
            "min": 0,
            "orientation": "horizontal",
            "style": "IPY_MODEL_97b242c3314a4467a552cb73c0154df7",
            "value": 4
          }
        },
        "b6b05d2687994b2f870a52863252071e": {
          "model_module": "@jupyter-widgets/controls",
          "model_name": "HTMLModel",
          "model_module_version": "1.5.0",
          "state": {
            "_dom_classes": [],
            "_model_module": "@jupyter-widgets/controls",
            "_model_module_version": "1.5.0",
            "_model_name": "HTMLModel",
            "_view_count": null,
            "_view_module": "@jupyter-widgets/controls",
            "_view_module_version": "1.5.0",
            "_view_name": "HTMLView",
            "description": "",
            "description_tooltip": null,
            "layout": "IPY_MODEL_cc110af44f504c7499fa10d56d0a65c6",
            "placeholder": "​",
            "style": "IPY_MODEL_416407887dd74d9bbf945af512218cf5",
            "value": " 4/4 [01:27&lt;00:00, 15.74s/it]"
          }
        },
        "1235acc2aa4948949d579059dbf7a25d": {
          "model_module": "@jupyter-widgets/base",
          "model_name": "LayoutModel",
          "model_module_version": "1.2.0",
          "state": {
            "_model_module": "@jupyter-widgets/base",
            "_model_module_version": "1.2.0",
            "_model_name": "LayoutModel",
            "_view_count": null,
            "_view_module": "@jupyter-widgets/base",
            "_view_module_version": "1.2.0",
            "_view_name": "LayoutView",
            "align_content": null,
            "align_items": null,
            "align_self": null,
            "border": null,
            "bottom": null,
            "display": null,
            "flex": null,
            "flex_flow": null,
            "grid_area": null,
            "grid_auto_columns": null,
            "grid_auto_flow": null,
            "grid_auto_rows": null,
            "grid_column": null,
            "grid_gap": null,
            "grid_row": null,
            "grid_template_areas": null,
            "grid_template_columns": null,
            "grid_template_rows": null,
            "height": null,
            "justify_content": null,
            "justify_items": null,
            "left": null,
            "margin": null,
            "max_height": null,
            "max_width": null,
            "min_height": null,
            "min_width": null,
            "object_fit": null,
            "object_position": null,
            "order": null,
            "overflow": null,
            "overflow_x": null,
            "overflow_y": null,
            "padding": null,
            "right": null,
            "top": null,
            "visibility": null,
            "width": null
          }
        },
        "18ac06616d6c440ca5f86aa32b245f7e": {
          "model_module": "@jupyter-widgets/base",
          "model_name": "LayoutModel",
          "model_module_version": "1.2.0",
          "state": {
            "_model_module": "@jupyter-widgets/base",
            "_model_module_version": "1.2.0",
            "_model_name": "LayoutModel",
            "_view_count": null,
            "_view_module": "@jupyter-widgets/base",
            "_view_module_version": "1.2.0",
            "_view_name": "LayoutView",
            "align_content": null,
            "align_items": null,
            "align_self": null,
            "border": null,
            "bottom": null,
            "display": null,
            "flex": null,
            "flex_flow": null,
            "grid_area": null,
            "grid_auto_columns": null,
            "grid_auto_flow": null,
            "grid_auto_rows": null,
            "grid_column": null,
            "grid_gap": null,
            "grid_row": null,
            "grid_template_areas": null,
            "grid_template_columns": null,
            "grid_template_rows": null,
            "height": null,
            "justify_content": null,
            "justify_items": null,
            "left": null,
            "margin": null,
            "max_height": null,
            "max_width": null,
            "min_height": null,
            "min_width": null,
            "object_fit": null,
            "object_position": null,
            "order": null,
            "overflow": null,
            "overflow_x": null,
            "overflow_y": null,
            "padding": null,
            "right": null,
            "top": null,
            "visibility": null,
            "width": null
          }
        },
        "e81075b69751473eb7fe55aa330f8422": {
          "model_module": "@jupyter-widgets/controls",
          "model_name": "DescriptionStyleModel",
          "model_module_version": "1.5.0",
          "state": {
            "_model_module": "@jupyter-widgets/controls",
            "_model_module_version": "1.5.0",
            "_model_name": "DescriptionStyleModel",
            "_view_count": null,
            "_view_module": "@jupyter-widgets/base",
            "_view_module_version": "1.2.0",
            "_view_name": "StyleView",
            "description_width": ""
          }
        },
        "72fe1380f37f4efbb8cf181a424a3dd0": {
          "model_module": "@jupyter-widgets/base",
          "model_name": "LayoutModel",
          "model_module_version": "1.2.0",
          "state": {
            "_model_module": "@jupyter-widgets/base",
            "_model_module_version": "1.2.0",
            "_model_name": "LayoutModel",
            "_view_count": null,
            "_view_module": "@jupyter-widgets/base",
            "_view_module_version": "1.2.0",
            "_view_name": "LayoutView",
            "align_content": null,
            "align_items": null,
            "align_self": null,
            "border": null,
            "bottom": null,
            "display": null,
            "flex": null,
            "flex_flow": null,
            "grid_area": null,
            "grid_auto_columns": null,
            "grid_auto_flow": null,
            "grid_auto_rows": null,
            "grid_column": null,
            "grid_gap": null,
            "grid_row": null,
            "grid_template_areas": null,
            "grid_template_columns": null,
            "grid_template_rows": null,
            "height": null,
            "justify_content": null,
            "justify_items": null,
            "left": null,
            "margin": null,
            "max_height": null,
            "max_width": null,
            "min_height": null,
            "min_width": null,
            "object_fit": null,
            "object_position": null,
            "order": null,
            "overflow": null,
            "overflow_x": null,
            "overflow_y": null,
            "padding": null,
            "right": null,
            "top": null,
            "visibility": null,
            "width": null
          }
        },
        "97b242c3314a4467a552cb73c0154df7": {
          "model_module": "@jupyter-widgets/controls",
          "model_name": "ProgressStyleModel",
          "model_module_version": "1.5.0",
          "state": {
            "_model_module": "@jupyter-widgets/controls",
            "_model_module_version": "1.5.0",
            "_model_name": "ProgressStyleModel",
            "_view_count": null,
            "_view_module": "@jupyter-widgets/base",
            "_view_module_version": "1.2.0",
            "_view_name": "StyleView",
            "bar_color": null,
            "description_width": ""
          }
        },
        "cc110af44f504c7499fa10d56d0a65c6": {
          "model_module": "@jupyter-widgets/base",
          "model_name": "LayoutModel",
          "model_module_version": "1.2.0",
          "state": {
            "_model_module": "@jupyter-widgets/base",
            "_model_module_version": "1.2.0",
            "_model_name": "LayoutModel",
            "_view_count": null,
            "_view_module": "@jupyter-widgets/base",
            "_view_module_version": "1.2.0",
            "_view_name": "LayoutView",
            "align_content": null,
            "align_items": null,
            "align_self": null,
            "border": null,
            "bottom": null,
            "display": null,
            "flex": null,
            "flex_flow": null,
            "grid_area": null,
            "grid_auto_columns": null,
            "grid_auto_flow": null,
            "grid_auto_rows": null,
            "grid_column": null,
            "grid_gap": null,
            "grid_row": null,
            "grid_template_areas": null,
            "grid_template_columns": null,
            "grid_template_rows": null,
            "height": null,
            "justify_content": null,
            "justify_items": null,
            "left": null,
            "margin": null,
            "max_height": null,
            "max_width": null,
            "min_height": null,
            "min_width": null,
            "object_fit": null,
            "object_position": null,
            "order": null,
            "overflow": null,
            "overflow_x": null,
            "overflow_y": null,
            "padding": null,
            "right": null,
            "top": null,
            "visibility": null,
            "width": null
          }
        },
        "416407887dd74d9bbf945af512218cf5": {
          "model_module": "@jupyter-widgets/controls",
          "model_name": "DescriptionStyleModel",
          "model_module_version": "1.5.0",
          "state": {
            "_model_module": "@jupyter-widgets/controls",
            "_model_module_version": "1.5.0",
            "_model_name": "DescriptionStyleModel",
            "_view_count": null,
            "_view_module": "@jupyter-widgets/base",
            "_view_module_version": "1.2.0",
            "_view_name": "StyleView",
            "description_width": ""
          }
        },
        "e1e97d8eaab7409a9dbb99cd0f7ba99b": {
          "model_module": "@jupyter-widgets/controls",
          "model_name": "HBoxModel",
          "model_module_version": "1.5.0",
          "state": {
            "_dom_classes": [],
            "_model_module": "@jupyter-widgets/controls",
            "_model_module_version": "1.5.0",
            "_model_name": "HBoxModel",
            "_view_count": null,
            "_view_module": "@jupyter-widgets/controls",
            "_view_module_version": "1.5.0",
            "_view_name": "HBoxView",
            "box_style": "",
            "children": [
              "IPY_MODEL_e5e0a41c7c974fd8b9590589e54559e0",
              "IPY_MODEL_9e872aa8ecfd4977816f563257c22d1c",
              "IPY_MODEL_77ad64afe7354cc785bcc2c5963fe7ca"
            ],
            "layout": "IPY_MODEL_ca7892db7028453392a1f0cabfb5b8fb"
          }
        },
        "e5e0a41c7c974fd8b9590589e54559e0": {
          "model_module": "@jupyter-widgets/controls",
          "model_name": "HTMLModel",
          "model_module_version": "1.5.0",
          "state": {
            "_dom_classes": [],
            "_model_module": "@jupyter-widgets/controls",
            "_model_module_version": "1.5.0",
            "_model_name": "HTMLModel",
            "_view_count": null,
            "_view_module": "@jupyter-widgets/controls",
            "_view_module_version": "1.5.0",
            "_view_name": "HTMLView",
            "description": "",
            "description_tooltip": null,
            "layout": "IPY_MODEL_b231a05dea024540b62281841f55b5d0",
            "placeholder": "​",
            "style": "IPY_MODEL_ddaa7fd5d3954d06b8b75bc83cb74e9a",
            "value": "100%"
          }
        },
        "9e872aa8ecfd4977816f563257c22d1c": {
          "model_module": "@jupyter-widgets/controls",
          "model_name": "FloatProgressModel",
          "model_module_version": "1.5.0",
          "state": {
            "_dom_classes": [],
            "_model_module": "@jupyter-widgets/controls",
            "_model_module_version": "1.5.0",
            "_model_name": "FloatProgressModel",
            "_view_count": null,
            "_view_module": "@jupyter-widgets/controls",
            "_view_module_version": "1.5.0",
            "_view_name": "ProgressView",
            "bar_style": "",
            "description": "",
            "description_tooltip": null,
            "layout": "IPY_MODEL_4fdc03d88cc7412d9d232386cb4d4bfc",
            "max": 20,
            "min": 0,
            "orientation": "horizontal",
            "style": "IPY_MODEL_a064cc120c0a4e09880f86f034a6c6aa",
            "value": 20
          }
        },
        "77ad64afe7354cc785bcc2c5963fe7ca": {
          "model_module": "@jupyter-widgets/controls",
          "model_name": "HTMLModel",
          "model_module_version": "1.5.0",
          "state": {
            "_dom_classes": [],
            "_model_module": "@jupyter-widgets/controls",
            "_model_module_version": "1.5.0",
            "_model_name": "HTMLModel",
            "_view_count": null,
            "_view_module": "@jupyter-widgets/controls",
            "_view_module_version": "1.5.0",
            "_view_name": "HTMLView",
            "description": "",
            "description_tooltip": null,
            "layout": "IPY_MODEL_c65718e41dc941c09860e05ed4280849",
            "placeholder": "​",
            "style": "IPY_MODEL_f4cce023b5ee43cfb7d58b018ada7355",
            "value": " 20/20 [04:03&lt;00:00,  3.40s/it]"
          }
        },
        "ca7892db7028453392a1f0cabfb5b8fb": {
          "model_module": "@jupyter-widgets/base",
          "model_name": "LayoutModel",
          "model_module_version": "1.2.0",
          "state": {
            "_model_module": "@jupyter-widgets/base",
            "_model_module_version": "1.2.0",
            "_model_name": "LayoutModel",
            "_view_count": null,
            "_view_module": "@jupyter-widgets/base",
            "_view_module_version": "1.2.0",
            "_view_name": "LayoutView",
            "align_content": null,
            "align_items": null,
            "align_self": null,
            "border": null,
            "bottom": null,
            "display": null,
            "flex": null,
            "flex_flow": null,
            "grid_area": null,
            "grid_auto_columns": null,
            "grid_auto_flow": null,
            "grid_auto_rows": null,
            "grid_column": null,
            "grid_gap": null,
            "grid_row": null,
            "grid_template_areas": null,
            "grid_template_columns": null,
            "grid_template_rows": null,
            "height": null,
            "justify_content": null,
            "justify_items": null,
            "left": null,
            "margin": null,
            "max_height": null,
            "max_width": null,
            "min_height": null,
            "min_width": null,
            "object_fit": null,
            "object_position": null,
            "order": null,
            "overflow": null,
            "overflow_x": null,
            "overflow_y": null,
            "padding": null,
            "right": null,
            "top": null,
            "visibility": null,
            "width": null
          }
        },
        "b231a05dea024540b62281841f55b5d0": {
          "model_module": "@jupyter-widgets/base",
          "model_name": "LayoutModel",
          "model_module_version": "1.2.0",
          "state": {
            "_model_module": "@jupyter-widgets/base",
            "_model_module_version": "1.2.0",
            "_model_name": "LayoutModel",
            "_view_count": null,
            "_view_module": "@jupyter-widgets/base",
            "_view_module_version": "1.2.0",
            "_view_name": "LayoutView",
            "align_content": null,
            "align_items": null,
            "align_self": null,
            "border": null,
            "bottom": null,
            "display": null,
            "flex": null,
            "flex_flow": null,
            "grid_area": null,
            "grid_auto_columns": null,
            "grid_auto_flow": null,
            "grid_auto_rows": null,
            "grid_column": null,
            "grid_gap": null,
            "grid_row": null,
            "grid_template_areas": null,
            "grid_template_columns": null,
            "grid_template_rows": null,
            "height": null,
            "justify_content": null,
            "justify_items": null,
            "left": null,
            "margin": null,
            "max_height": null,
            "max_width": null,
            "min_height": null,
            "min_width": null,
            "object_fit": null,
            "object_position": null,
            "order": null,
            "overflow": null,
            "overflow_x": null,
            "overflow_y": null,
            "padding": null,
            "right": null,
            "top": null,
            "visibility": null,
            "width": null
          }
        },
        "ddaa7fd5d3954d06b8b75bc83cb74e9a": {
          "model_module": "@jupyter-widgets/controls",
          "model_name": "DescriptionStyleModel",
          "model_module_version": "1.5.0",
          "state": {
            "_model_module": "@jupyter-widgets/controls",
            "_model_module_version": "1.5.0",
            "_model_name": "DescriptionStyleModel",
            "_view_count": null,
            "_view_module": "@jupyter-widgets/base",
            "_view_module_version": "1.2.0",
            "_view_name": "StyleView",
            "description_width": ""
          }
        },
        "4fdc03d88cc7412d9d232386cb4d4bfc": {
          "model_module": "@jupyter-widgets/base",
          "model_name": "LayoutModel",
          "model_module_version": "1.2.0",
          "state": {
            "_model_module": "@jupyter-widgets/base",
            "_model_module_version": "1.2.0",
            "_model_name": "LayoutModel",
            "_view_count": null,
            "_view_module": "@jupyter-widgets/base",
            "_view_module_version": "1.2.0",
            "_view_name": "LayoutView",
            "align_content": null,
            "align_items": null,
            "align_self": null,
            "border": null,
            "bottom": null,
            "display": null,
            "flex": null,
            "flex_flow": null,
            "grid_area": null,
            "grid_auto_columns": null,
            "grid_auto_flow": null,
            "grid_auto_rows": null,
            "grid_column": null,
            "grid_gap": null,
            "grid_row": null,
            "grid_template_areas": null,
            "grid_template_columns": null,
            "grid_template_rows": null,
            "height": null,
            "justify_content": null,
            "justify_items": null,
            "left": null,
            "margin": null,
            "max_height": null,
            "max_width": null,
            "min_height": null,
            "min_width": null,
            "object_fit": null,
            "object_position": null,
            "order": null,
            "overflow": null,
            "overflow_x": null,
            "overflow_y": null,
            "padding": null,
            "right": null,
            "top": null,
            "visibility": null,
            "width": null
          }
        },
        "a064cc120c0a4e09880f86f034a6c6aa": {
          "model_module": "@jupyter-widgets/controls",
          "model_name": "ProgressStyleModel",
          "model_module_version": "1.5.0",
          "state": {
            "_model_module": "@jupyter-widgets/controls",
            "_model_module_version": "1.5.0",
            "_model_name": "ProgressStyleModel",
            "_view_count": null,
            "_view_module": "@jupyter-widgets/base",
            "_view_module_version": "1.2.0",
            "_view_name": "StyleView",
            "bar_color": null,
            "description_width": ""
          }
        },
        "c65718e41dc941c09860e05ed4280849": {
          "model_module": "@jupyter-widgets/base",
          "model_name": "LayoutModel",
          "model_module_version": "1.2.0",
          "state": {
            "_model_module": "@jupyter-widgets/base",
            "_model_module_version": "1.2.0",
            "_model_name": "LayoutModel",
            "_view_count": null,
            "_view_module": "@jupyter-widgets/base",
            "_view_module_version": "1.2.0",
            "_view_name": "LayoutView",
            "align_content": null,
            "align_items": null,
            "align_self": null,
            "border": null,
            "bottom": null,
            "display": null,
            "flex": null,
            "flex_flow": null,
            "grid_area": null,
            "grid_auto_columns": null,
            "grid_auto_flow": null,
            "grid_auto_rows": null,
            "grid_column": null,
            "grid_gap": null,
            "grid_row": null,
            "grid_template_areas": null,
            "grid_template_columns": null,
            "grid_template_rows": null,
            "height": null,
            "justify_content": null,
            "justify_items": null,
            "left": null,
            "margin": null,
            "max_height": null,
            "max_width": null,
            "min_height": null,
            "min_width": null,
            "object_fit": null,
            "object_position": null,
            "order": null,
            "overflow": null,
            "overflow_x": null,
            "overflow_y": null,
            "padding": null,
            "right": null,
            "top": null,
            "visibility": null,
            "width": null
          }
        },
        "f4cce023b5ee43cfb7d58b018ada7355": {
          "model_module": "@jupyter-widgets/controls",
          "model_name": "DescriptionStyleModel",
          "model_module_version": "1.5.0",
          "state": {
            "_model_module": "@jupyter-widgets/controls",
            "_model_module_version": "1.5.0",
            "_model_name": "DescriptionStyleModel",
            "_view_count": null,
            "_view_module": "@jupyter-widgets/base",
            "_view_module_version": "1.2.0",
            "_view_name": "StyleView",
            "description_width": ""
          }
        },
        "1ca8b7e19b0849c8b29f908cb0989e0b": {
          "model_module": "@jupyter-widgets/controls",
          "model_name": "HBoxModel",
          "model_module_version": "1.5.0",
          "state": {
            "_dom_classes": [],
            "_model_module": "@jupyter-widgets/controls",
            "_model_module_version": "1.5.0",
            "_model_name": "HBoxModel",
            "_view_count": null,
            "_view_module": "@jupyter-widgets/controls",
            "_view_module_version": "1.5.0",
            "_view_name": "HBoxView",
            "box_style": "",
            "children": [
              "IPY_MODEL_278f0760679e40cdb7dab62ac474f687",
              "IPY_MODEL_9292b2d7b4e343d5837fa8ae21765836",
              "IPY_MODEL_6ececacbfd4c4bcda3919d4de065e964"
            ],
            "layout": "IPY_MODEL_d436f4a8f5c34d5d98d58439c4883fb8"
          }
        },
        "278f0760679e40cdb7dab62ac474f687": {
          "model_module": "@jupyter-widgets/controls",
          "model_name": "HTMLModel",
          "model_module_version": "1.5.0",
          "state": {
            "_dom_classes": [],
            "_model_module": "@jupyter-widgets/controls",
            "_model_module_version": "1.5.0",
            "_model_name": "HTMLModel",
            "_view_count": null,
            "_view_module": "@jupyter-widgets/controls",
            "_view_module_version": "1.5.0",
            "_view_name": "HTMLView",
            "description": "",
            "description_tooltip": null,
            "layout": "IPY_MODEL_31d34f889b74415f81dd5f0b4c8b7b85",
            "placeholder": "​",
            "style": "IPY_MODEL_21d58b5f323648aa9c926f0dae57a260",
            "value": "100%"
          }
        },
        "9292b2d7b4e343d5837fa8ae21765836": {
          "model_module": "@jupyter-widgets/controls",
          "model_name": "FloatProgressModel",
          "model_module_version": "1.5.0",
          "state": {
            "_dom_classes": [],
            "_model_module": "@jupyter-widgets/controls",
            "_model_module_version": "1.5.0",
            "_model_name": "FloatProgressModel",
            "_view_count": null,
            "_view_module": "@jupyter-widgets/controls",
            "_view_module_version": "1.5.0",
            "_view_name": "ProgressView",
            "bar_style": "",
            "description": "",
            "description_tooltip": null,
            "layout": "IPY_MODEL_d41f842043b74fc69a1c07694a6d93e4",
            "max": 20,
            "min": 0,
            "orientation": "horizontal",
            "style": "IPY_MODEL_16c3ec1f7f874569bcd037f74e8b0721",
            "value": 20
          }
        },
        "6ececacbfd4c4bcda3919d4de065e964": {
          "model_module": "@jupyter-widgets/controls",
          "model_name": "HTMLModel",
          "model_module_version": "1.5.0",
          "state": {
            "_dom_classes": [],
            "_model_module": "@jupyter-widgets/controls",
            "_model_module_version": "1.5.0",
            "_model_name": "HTMLModel",
            "_view_count": null,
            "_view_module": "@jupyter-widgets/controls",
            "_view_module_version": "1.5.0",
            "_view_name": "HTMLView",
            "description": "",
            "description_tooltip": null,
            "layout": "IPY_MODEL_ebdb6f34a3624ca8b8a24aea68739204",
            "placeholder": "​",
            "style": "IPY_MODEL_7b51e1c4d35f4262b25a33f2fbce5b2f",
            "value": " 20/20 [03:24&lt;00:00,  3.40s/it]"
          }
        },
        "d436f4a8f5c34d5d98d58439c4883fb8": {
          "model_module": "@jupyter-widgets/base",
          "model_name": "LayoutModel",
          "model_module_version": "1.2.0",
          "state": {
            "_model_module": "@jupyter-widgets/base",
            "_model_module_version": "1.2.0",
            "_model_name": "LayoutModel",
            "_view_count": null,
            "_view_module": "@jupyter-widgets/base",
            "_view_module_version": "1.2.0",
            "_view_name": "LayoutView",
            "align_content": null,
            "align_items": null,
            "align_self": null,
            "border": null,
            "bottom": null,
            "display": null,
            "flex": null,
            "flex_flow": null,
            "grid_area": null,
            "grid_auto_columns": null,
            "grid_auto_flow": null,
            "grid_auto_rows": null,
            "grid_column": null,
            "grid_gap": null,
            "grid_row": null,
            "grid_template_areas": null,
            "grid_template_columns": null,
            "grid_template_rows": null,
            "height": null,
            "justify_content": null,
            "justify_items": null,
            "left": null,
            "margin": null,
            "max_height": null,
            "max_width": null,
            "min_height": null,
            "min_width": null,
            "object_fit": null,
            "object_position": null,
            "order": null,
            "overflow": null,
            "overflow_x": null,
            "overflow_y": null,
            "padding": null,
            "right": null,
            "top": null,
            "visibility": null,
            "width": null
          }
        },
        "31d34f889b74415f81dd5f0b4c8b7b85": {
          "model_module": "@jupyter-widgets/base",
          "model_name": "LayoutModel",
          "model_module_version": "1.2.0",
          "state": {
            "_model_module": "@jupyter-widgets/base",
            "_model_module_version": "1.2.0",
            "_model_name": "LayoutModel",
            "_view_count": null,
            "_view_module": "@jupyter-widgets/base",
            "_view_module_version": "1.2.0",
            "_view_name": "LayoutView",
            "align_content": null,
            "align_items": null,
            "align_self": null,
            "border": null,
            "bottom": null,
            "display": null,
            "flex": null,
            "flex_flow": null,
            "grid_area": null,
            "grid_auto_columns": null,
            "grid_auto_flow": null,
            "grid_auto_rows": null,
            "grid_column": null,
            "grid_gap": null,
            "grid_row": null,
            "grid_template_areas": null,
            "grid_template_columns": null,
            "grid_template_rows": null,
            "height": null,
            "justify_content": null,
            "justify_items": null,
            "left": null,
            "margin": null,
            "max_height": null,
            "max_width": null,
            "min_height": null,
            "min_width": null,
            "object_fit": null,
            "object_position": null,
            "order": null,
            "overflow": null,
            "overflow_x": null,
            "overflow_y": null,
            "padding": null,
            "right": null,
            "top": null,
            "visibility": null,
            "width": null
          }
        },
        "21d58b5f323648aa9c926f0dae57a260": {
          "model_module": "@jupyter-widgets/controls",
          "model_name": "DescriptionStyleModel",
          "model_module_version": "1.5.0",
          "state": {
            "_model_module": "@jupyter-widgets/controls",
            "_model_module_version": "1.5.0",
            "_model_name": "DescriptionStyleModel",
            "_view_count": null,
            "_view_module": "@jupyter-widgets/base",
            "_view_module_version": "1.2.0",
            "_view_name": "StyleView",
            "description_width": ""
          }
        },
        "d41f842043b74fc69a1c07694a6d93e4": {
          "model_module": "@jupyter-widgets/base",
          "model_name": "LayoutModel",
          "model_module_version": "1.2.0",
          "state": {
            "_model_module": "@jupyter-widgets/base",
            "_model_module_version": "1.2.0",
            "_model_name": "LayoutModel",
            "_view_count": null,
            "_view_module": "@jupyter-widgets/base",
            "_view_module_version": "1.2.0",
            "_view_name": "LayoutView",
            "align_content": null,
            "align_items": null,
            "align_self": null,
            "border": null,
            "bottom": null,
            "display": null,
            "flex": null,
            "flex_flow": null,
            "grid_area": null,
            "grid_auto_columns": null,
            "grid_auto_flow": null,
            "grid_auto_rows": null,
            "grid_column": null,
            "grid_gap": null,
            "grid_row": null,
            "grid_template_areas": null,
            "grid_template_columns": null,
            "grid_template_rows": null,
            "height": null,
            "justify_content": null,
            "justify_items": null,
            "left": null,
            "margin": null,
            "max_height": null,
            "max_width": null,
            "min_height": null,
            "min_width": null,
            "object_fit": null,
            "object_position": null,
            "order": null,
            "overflow": null,
            "overflow_x": null,
            "overflow_y": null,
            "padding": null,
            "right": null,
            "top": null,
            "visibility": null,
            "width": null
          }
        },
        "16c3ec1f7f874569bcd037f74e8b0721": {
          "model_module": "@jupyter-widgets/controls",
          "model_name": "ProgressStyleModel",
          "model_module_version": "1.5.0",
          "state": {
            "_model_module": "@jupyter-widgets/controls",
            "_model_module_version": "1.5.0",
            "_model_name": "ProgressStyleModel",
            "_view_count": null,
            "_view_module": "@jupyter-widgets/base",
            "_view_module_version": "1.2.0",
            "_view_name": "StyleView",
            "bar_color": null,
            "description_width": ""
          }
        },
        "ebdb6f34a3624ca8b8a24aea68739204": {
          "model_module": "@jupyter-widgets/base",
          "model_name": "LayoutModel",
          "model_module_version": "1.2.0",
          "state": {
            "_model_module": "@jupyter-widgets/base",
            "_model_module_version": "1.2.0",
            "_model_name": "LayoutModel",
            "_view_count": null,
            "_view_module": "@jupyter-widgets/base",
            "_view_module_version": "1.2.0",
            "_view_name": "LayoutView",
            "align_content": null,
            "align_items": null,
            "align_self": null,
            "border": null,
            "bottom": null,
            "display": null,
            "flex": null,
            "flex_flow": null,
            "grid_area": null,
            "grid_auto_columns": null,
            "grid_auto_flow": null,
            "grid_auto_rows": null,
            "grid_column": null,
            "grid_gap": null,
            "grid_row": null,
            "grid_template_areas": null,
            "grid_template_columns": null,
            "grid_template_rows": null,
            "height": null,
            "justify_content": null,
            "justify_items": null,
            "left": null,
            "margin": null,
            "max_height": null,
            "max_width": null,
            "min_height": null,
            "min_width": null,
            "object_fit": null,
            "object_position": null,
            "order": null,
            "overflow": null,
            "overflow_x": null,
            "overflow_y": null,
            "padding": null,
            "right": null,
            "top": null,
            "visibility": null,
            "width": null
          }
        },
        "7b51e1c4d35f4262b25a33f2fbce5b2f": {
          "model_module": "@jupyter-widgets/controls",
          "model_name": "DescriptionStyleModel",
          "model_module_version": "1.5.0",
          "state": {
            "_model_module": "@jupyter-widgets/controls",
            "_model_module_version": "1.5.0",
            "_model_name": "DescriptionStyleModel",
            "_view_count": null,
            "_view_module": "@jupyter-widgets/base",
            "_view_module_version": "1.2.0",
            "_view_name": "StyleView",
            "description_width": ""
          }
        }
      }
    }
  },
  "nbformat": 4,
  "nbformat_minor": 0
}