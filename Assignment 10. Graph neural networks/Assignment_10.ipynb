{
  "cells": [
    {
      "cell_type": "markdown",
      "metadata": {
        "id": "b-CuseXxIEOp"
      },
      "source": [
        "# Assignment — Graph neural networks"
      ]
    },
    {
      "cell_type": "code",
      "source": [
        "pip install dgl -f https://data.dgl.ai/wheels/repo.html"
      ],
      "metadata": {
        "id": "jIm_mP2IIZnm",
        "outputId": "09d20bc6-ce39-4f4e-b2d7-3e60aaf0196c",
        "colab": {
          "base_uri": "https://localhost:8080/"
        }
      },
      "execution_count": null,
      "outputs": [
        {
          "output_type": "stream",
          "name": "stdout",
          "text": [
            "Looking in links: https://data.dgl.ai/wheels/repo.html\n",
            "Collecting dgl\n",
            "  Downloading https://data.dgl.ai/wheels/dgl-0.8.0.post1-cp37-cp37m-manylinux1_x86_64.whl (6.1 MB)\n",
            "\u001b[K     |████████████████████████████████| 6.1 MB 5.1 MB/s \n",
            "\u001b[?25hRequirement already satisfied: scipy>=1.1.0 in /usr/local/lib/python3.7/dist-packages (from dgl) (1.4.1)\n",
            "Requirement already satisfied: requests>=2.19.0 in /usr/local/lib/python3.7/dist-packages (from dgl) (2.23.0)\n",
            "Requirement already satisfied: tqdm in /usr/local/lib/python3.7/dist-packages (from dgl) (4.63.0)\n",
            "Requirement already satisfied: numpy>=1.14.0 in /usr/local/lib/python3.7/dist-packages (from dgl) (1.21.5)\n",
            "Requirement already satisfied: networkx>=2.1 in /usr/local/lib/python3.7/dist-packages (from dgl) (2.6.3)\n",
            "Requirement already satisfied: idna<3,>=2.5 in /usr/local/lib/python3.7/dist-packages (from requests>=2.19.0->dgl) (2.10)\n",
            "Requirement already satisfied: urllib3!=1.25.0,!=1.25.1,<1.26,>=1.21.1 in /usr/local/lib/python3.7/dist-packages (from requests>=2.19.0->dgl) (1.24.3)\n",
            "Requirement already satisfied: chardet<4,>=3.0.2 in /usr/local/lib/python3.7/dist-packages (from requests>=2.19.0->dgl) (3.0.4)\n",
            "Requirement already satisfied: certifi>=2017.4.17 in /usr/local/lib/python3.7/dist-packages (from requests>=2.19.0->dgl) (2021.10.8)\n",
            "Installing collected packages: dgl\n",
            "Successfully installed dgl-0.8.0.post1\n"
          ]
        }
      ]
    },
    {
      "cell_type": "code",
      "execution_count": null,
      "metadata": {
        "id": "be43F5GMIEOy",
        "outputId": "4028c286-8c93-426c-c54c-fa997a075fcc",
        "colab": {
          "base_uri": "https://localhost:8080/"
        }
      },
      "outputs": [
        {
          "output_type": "stream",
          "name": "stdout",
          "text": [
            "Setting the default backend to \"pytorch\". You can change it in the ~/.dgl/config.json file or export the DGLBACKEND environment variable.  Valid options are: pytorch, mxnet, tensorflow (all lowercase)\n"
          ]
        },
        {
          "output_type": "stream",
          "name": "stderr",
          "text": [
            "DGL backend not selected or invalid.  Assuming PyTorch for now.\n"
          ]
        }
      ],
      "source": [
        "from dgl.nn import GATConv, SAGEConv\n",
        "import requests\n",
        "import torch.nn.functional as F\n",
        "import numpy as np\n",
        "import torch.nn as nn\n",
        "from sklearn.preprocessing import minmax_scale\n",
        "import matplotlib.pyplot as plt\n",
        "from sklearn.linear_model import LogisticRegression\n",
        "from IPython.display import clear_output\n",
        "from zlib import adler32\n",
        "from sklearn.metrics import balanced_accuracy_score\n",
        "import networkx as nx\n",
        "from sklearn.model_selection import train_test_split\n",
        "import torch\n",
        "from dgl import function as fn\n",
        "import pandas as pd\n",
        "from dgl.data import CoraGraphDataset\n",
        "import dgl"
      ]
    },
    {
      "cell_type": "markdown",
      "metadata": {
        "id": "O35SZW1pIEO1"
      },
      "source": [
        "### Task 1. Graph Convolutional Network (0 points)"
      ]
    },
    {
      "cell_type": "markdown",
      "metadata": {
        "id": "eri2KJ68IEO1"
      },
      "source": [
        "In the task, we will train the Graph Convolutional Network (GCN) model to predict the node label (node classification task). Concretely, we will predict the category of the paper in the citation graph. First, let us build the cora dataset."
      ]
    },
    {
      "cell_type": "code",
      "execution_count": null,
      "metadata": {
        "id": "Tf3xpGESIEO2",
        "outputId": "03e0b3c8-3bd4-4ad6-d5e4-9af6ec671176",
        "colab": {
          "base_uri": "https://localhost:8080/"
        }
      },
      "outputs": [
        {
          "output_type": "execute_result",
          "data": {
            "text/plain": [
              "1"
            ]
          },
          "metadata": {},
          "execution_count": 9
        }
      ],
      "source": [
        "dataset = CoraGraphDataset(verbose=False)\n",
        "len(dataset)"
      ]
    },
    {
      "cell_type": "markdown",
      "metadata": {
        "id": "X8bOtqlfIEO3"
      },
      "source": [
        "The dataset contains one graph – CORA. Next, load the feature matrix — 0/1-valued matrix of presence 1433 words."
      ]
    },
    {
      "cell_type": "code",
      "execution_count": null,
      "metadata": {
        "id": "RQLF6gkGIEO4",
        "outputId": "e896a402-2e57-4d04-84fe-08b9053227b0",
        "colab": {
          "base_uri": "https://localhost:8080/"
        }
      },
      "outputs": [
        {
          "output_type": "execute_result",
          "data": {
            "text/plain": [
              "tensor([[0.0000, 0.0000, 0.0000,  ..., 0.0000, 0.0000, 0.0000],\n",
              "        [0.0000, 0.0000, 0.0000,  ..., 0.0000, 0.0000, 0.0000],\n",
              "        [0.0000, 0.0000, 0.0000,  ..., 0.0000, 0.0000, 0.0000],\n",
              "        ...,\n",
              "        [0.0000, 0.0000, 0.0000,  ..., 0.0000, 0.0000, 0.0000],\n",
              "        [0.0000, 0.0000, 0.0000,  ..., 0.0000, 0.0000, 0.0000],\n",
              "        [0.0000, 0.0000, 0.0000,  ..., 0.0000, 0.0526, 0.0000]])"
            ]
          },
          "metadata": {},
          "execution_count": 11
        }
      ],
      "source": [
        "dgl_cora = dataset[0]\n",
        "feat = dgl_cora.ndata['feat']\n",
        "feat"
      ]
    },
    {
      "cell_type": "markdown",
      "metadata": {
        "id": "HqH7Z-YVIEO5"
      },
      "source": [
        "And node labels (here are 7 node classes)."
      ]
    },
    {
      "cell_type": "code",
      "execution_count": null,
      "metadata": {
        "id": "0SvFHktvIEO6",
        "outputId": "68fbe952-2ce5-43c5-878c-0be5a67d4425",
        "colab": {
          "base_uri": "https://localhost:8080/"
        }
      },
      "outputs": [
        {
          "output_type": "execute_result",
          "data": {
            "text/plain": [
              "tensor([4, 4, 4,  ..., 4, 3, 3])"
            ]
          },
          "metadata": {},
          "execution_count": 12
        }
      ],
      "source": [
        "label = dgl_cora.ndata['label']\n",
        "label"
      ]
    },
    {
      "cell_type": "markdown",
      "metadata": {
        "id": "LHiejSvzIEO7"
      },
      "source": [
        "Let us create train and test boolean mask across data"
      ]
    },
    {
      "cell_type": "code",
      "execution_count": null,
      "metadata": {
        "id": "ykdQg3j6IEO7",
        "outputId": "7d22132e-cdfa-4ebd-c452-c801c7c6fad9",
        "colab": {
          "base_uri": "https://localhost:8080/"
        }
      },
      "outputs": [
        {
          "output_type": "execute_result",
          "data": {
            "text/plain": [
              "(tensor([False, False, False,  ..., False, False, False]),\n",
              " tensor([ True,  True, False,  ..., False, False, False]))"
            ]
          },
          "metadata": {},
          "execution_count": 13
        }
      ],
      "source": [
        "train_mask = dgl_cora.ndata['train_mask']\n",
        "test_mask = dgl_cora.ndata['test_mask']\n",
        "train_mask, test_mask"
      ]
    },
    {
      "cell_type": "markdown",
      "metadata": {
        "id": "XIsLKJ46IEO8"
      },
      "source": [
        "Zero in-degree nodes will lead to invalid output value. This is because no message will be passed to those nodes, the aggregation function will be appied on empty input. A common practice to avoid this is to add a self-loop for each node in the graph."
      ]
    },
    {
      "cell_type": "code",
      "execution_count": null,
      "metadata": {
        "id": "E8vWj7HhIEO8",
        "outputId": "c8ca5389-5db9-4b15-eae1-e1ff9922c9a6",
        "colab": {
          "base_uri": "https://localhost:8080/"
        }
      },
      "outputs": [
        {
          "output_type": "execute_result",
          "data": {
            "text/plain": [
              "tensor([[1., 1., 1.,  ..., 0., 0., 0.],\n",
              "        [1., 1., 0.,  ..., 0., 0., 0.],\n",
              "        [1., 0., 1.,  ..., 0., 0., 0.],\n",
              "        ...,\n",
              "        [0., 0., 0.,  ..., 1., 0., 0.],\n",
              "        [0., 0., 0.,  ..., 0., 1., 1.],\n",
              "        [0., 0., 0.,  ..., 0., 1., 1.]])"
            ]
          },
          "metadata": {},
          "execution_count": 14
        }
      ],
      "source": [
        "dgl_cora = dataset[0].add_self_loop()\n",
        "adj = dgl_cora.adj().to_dense()\n",
        "adj"
      ]
    },
    {
      "cell_type": "markdown",
      "metadata": {
        "id": "Z2xBEjgLIEO9"
      },
      "source": [
        "Now we are ready to create the GCN [Kipf, Welling, 2016]. The next node hidden state in the graph convolution is defined as follows:\n",
        "\n",
        "$$h_i^{l+1} = \\sigma\\left(b + \\sum_{j\\in\\mathcal{N}(i)}\\frac{1}{c_{ij}}h_j^{l}W\\right)$$\n",
        "\n",
        "where $\\mathcal{N}(i)$ is the set of neighbors of node $i$, $c_{ij}$ is the product of the square root of node degrees (i.e.,  $c_{ij} = \\sqrt{|\\mathcal{N}(i)|}\\sqrt{|\\mathcal{N}(j)|}$), and $\\sigma$ is an activation function. In the matrix form:\n",
        "\n",
        "$$H^{l+1} = \\sigma(b + D^{-1/2}AD^{-1/2}H^{l}W)$$\n",
        "\n",
        "where $D$ is diagonal degree matrix.\n",
        "\n",
        "Write a class `GCNLayer`. A function `init` takes an input and output dimensions (i.e. the size of matrix `W`) and store the linear layer, a function `forward` takes an adjacency matrix, node features and return node hidden states after the convolution.\n",
        "\n",
        "*Hint:*\n",
        "* *diagonal matrix can be inverted by direct inverting each element on diagonal*\n",
        "* *to speed up the calculation, compute a normalized adjacency using Hadamard product instead of dot product*"
      ]
    },
    {
      "cell_type": "code",
      "source": [
        "torch.diag(torch.Tensor([1, 2, 3]))"
      ],
      "metadata": {
        "id": "dRA75OzZMO3e",
        "outputId": "f059a940-c181-460a-b1fe-badbb5b2bc2b",
        "colab": {
          "base_uri": "https://localhost:8080/"
        }
      },
      "execution_count": null,
      "outputs": [
        {
          "output_type": "execute_result",
          "data": {
            "text/plain": [
              "tensor([[1., 0., 0.],\n",
              "        [0., 2., 0.],\n",
              "        [0., 0., 3.]])"
            ]
          },
          "metadata": {},
          "execution_count": 15
        }
      ]
    },
    {
      "cell_type": "code",
      "execution_count": null,
      "metadata": {
        "deletable": false,
        "nbgrader": {
          "cell_type": "code",
          "checksum": "3e138ae09c597b6c7265d780b1634606",
          "grade": false,
          "grade_id": "cell-49c0a67459fef8d6",
          "locked": false,
          "schema_version": 3,
          "solution": true,
          "task": false
        },
        "id": "HCv1FOFmIEO-"
      },
      "outputs": [],
      "source": [
        "class GCNLayer(nn.Module):\n",
        "    def __init__(self, in_dim, out_dim):\n",
        "        super().__init__()\n",
        "        self.dense = nn.Linear(in_dim, out_dim)\n",
        "\n",
        "    def forward(self, adj, feat):\n",
        "        h = feat\n",
        "        norm = adj.sum(dim=1) ** (-1/2)\n",
        "        norm_adj = norm[None, :] * adj * norm[:, None]\n",
        "        h = self.dense(norm_adj @ h)\n",
        "        return h"
      ]
    },
    {
      "cell_type": "code",
      "execution_count": null,
      "metadata": {
        "deletable": false,
        "editable": false,
        "nbgrader": {
          "cell_type": "code",
          "checksum": "463c5f10e99dfd19ff264d98ded5c375",
          "grade": true,
          "grade_id": "cell-3773092e16e3398b",
          "locked": true,
          "points": 0,
          "schema_version": 3,
          "solution": false,
          "task": false
        },
        "id": "agoCs0nOIEPF"
      },
      "outputs": [],
      "source": [
        "layer = GCNLayer(in_dim=100, out_dim=10)\n",
        "with torch.no_grad():\n",
        "    assert layer(adj, torch.randn(2708, 100)).shape == (2708, 10)"
      ]
    },
    {
      "cell_type": "markdown",
      "metadata": {
        "id": "cTsm_uHzIEPG"
      },
      "source": [
        "Write a `GCN` that represents a model for node classification among 7 classes. Let two `GCNLayer` layers with dimensions $\\text{in dim} \\to \\text{hid dim} \\to \\text{out dim}$. Apply `F.relu` as an activation function after the first layer. Let us select network dimensions as `in_dim=1433`, `hid_dim=16`, `out_dim=7`."
      ]
    },
    {
      "cell_type": "code",
      "execution_count": null,
      "metadata": {
        "deletable": false,
        "nbgrader": {
          "cell_type": "code",
          "checksum": "c4da0da86b0292bdf9aeb703bf39cedd",
          "grade": false,
          "grade_id": "cell-5e0c138f5ccaea0e",
          "locked": false,
          "schema_version": 3,
          "solution": true,
          "task": false
        },
        "id": "4mIrZfS5IEPG"
      },
      "outputs": [],
      "source": [
        "class GCN(nn.Module):\n",
        "    def __init__(self, in_dim, hid_dim, out_dim):\n",
        "        super().__init__()\n",
        "        self.conv1 = GCNLayer(in_dim=in_dim, out_dim=hid_dim)\n",
        "        self.conv2 = GCNLayer(in_dim=hid_dim, out_dim=out_dim)\n",
        "\n",
        "    def forward(self, adj, feat):\n",
        "        h = F.relu(self.conv1(adj, feat))\n",
        "        h = self.conv2(adj, h)\n",
        "        return h"
      ]
    },
    {
      "cell_type": "code",
      "execution_count": null,
      "metadata": {
        "deletable": false,
        "editable": false,
        "nbgrader": {
          "cell_type": "code",
          "checksum": "2817202cab5658c99e2757770dce56a1",
          "grade": true,
          "grade_id": "cell-fe037acfca3092bc",
          "locked": true,
          "points": 0,
          "schema_version": 3,
          "solution": false,
          "task": false
        },
        "id": "D7aF4sD0IEPI"
      },
      "outputs": [],
      "source": [
        "model = GCN(1433, 16, 7)\n",
        "with torch.no_grad():\n",
        "    assert model(adj, feat).shape == (2708, 7)"
      ]
    },
    {
      "cell_type": "markdown",
      "metadata": {
        "id": "eKkv7mZFIEPN"
      },
      "source": [
        "For classification tasks we will use `CrossEntropy` loss."
      ]
    },
    {
      "cell_type": "code",
      "execution_count": null,
      "metadata": {
        "id": "RWXj29TmIEPN"
      },
      "outputs": [],
      "source": [
        "ce_loss = nn.CrossEntropyLoss()"
      ]
    },
    {
      "cell_type": "markdown",
      "metadata": {
        "id": "G1Rsw1NwIEPO"
      },
      "source": [
        "Wtrite a function train that takes a model, optimizer, loss object, adjacency matrix, features, labels, and then optimize the model. It returns loss values across training and test sets.\n",
        "\n",
        "_Hints:_\n",
        "* _to speed up the calculation test loss, use `torch.no_grad()`_\n",
        "* _you can detach the loss value as follows:_\n",
        "```\n",
        "loss = ce_loss(input, target)\n",
        "value = loss.item()\n",
        "```"
      ]
    },
    {
      "cell_type": "code",
      "execution_count": null,
      "metadata": {
        "id": "0I321FIIIEPO"
      },
      "outputs": [],
      "source": [
        "def train(model, opt, loss, adj, feat, label):\n",
        "    logits = model.forward(adj, feat)\n",
        "    train_loss = ce_loss(logits[train_mask], label[train_mask])\n",
        "    opt.zero_grad()\n",
        "    train_loss.backward()\n",
        "    opt.step()\n",
        "    test_loss = ce_loss(logits[test_mask], label[test_mask])\n",
        "    return train_loss.item(), test_loss.item()"
      ]
    },
    {
      "cell_type": "code",
      "execution_count": null,
      "metadata": {
        "deletable": false,
        "editable": false,
        "nbgrader": {
          "cell_type": "code",
          "checksum": "92e8f8bb90dd6b638949f87b76466709",
          "grade": true,
          "grade_id": "cell-4107fa691bec8865",
          "locked": true,
          "points": 0,
          "schema_version": 3,
          "solution": false,
          "task": false
        },
        "id": "xKC0BJwzIEPO"
      },
      "outputs": [],
      "source": [
        "model = GCN(1433, 16, 7)\n",
        "opt = torch.optim.Adam(model.parameters(), lr=0.01)\n",
        "train_loss, test_loss = train(model, opt, ce_loss, adj, feat, label)\n",
        "assert 1.9 < train_loss < 2\n",
        "assert 1.9 < test_loss < 2"
      ]
    },
    {
      "cell_type": "code",
      "execution_count": null,
      "metadata": {
        "id": "0zwh-b9ZIEPP",
        "outputId": "e45691bd-1c61-4ecd-9bcd-73b99c5f83bf",
        "colab": {
          "base_uri": "https://localhost:8080/",
          "height": 281
        }
      },
      "outputs": [
        {
          "output_type": "display_data",
          "data": {
            "text/plain": [
              "<Figure size 432x288 with 1 Axes>"
            ],
            "image/png": "[encoded data removed]"
          },
          "metadata": {
            "needs_background": "light"
          }
        }
      ],
      "source": [
        "model = GCN(1433, 16, 7)\n",
        "opt = torch.optim.Adam(model.parameters(), lr=0.01)\n",
        "\n",
        "n_epochs = 200\n",
        "log = []\n",
        "for i in range(n_epochs):\n",
        "    \n",
        "    train_loss, test_loss = train(model, opt, ce_loss, adj, feat, label)\n",
        "    \n",
        "    log.append([train_loss, test_loss])\n",
        "    \n",
        "    plt.plot(np.array(log))\n",
        "    plt.title('Epoch: {}/{}'.format(i+1, n_epochs))\n",
        "    plt.legend(['train', 'test'])\n",
        "    plt.show()\n",
        "    clear_output(wait=True)"
      ]
    },
    {
      "cell_type": "code",
      "execution_count": null,
      "metadata": {
        "deletable": false,
        "editable": false,
        "nbgrader": {
          "cell_type": "code",
          "checksum": "953de62aa0c7dddea28b81206d4b8a3c",
          "grade": true,
          "grade_id": "cell-0dbd2da971a339fe",
          "locked": true,
          "points": 0,
          "schema_version": 3,
          "solution": false,
          "task": false
        },
        "id": "jh9cEFFJIEPP",
        "outputId": "af6720ed-f0a7-4371-e395-8f55dec74dc4",
        "colab": {
          "base_uri": "https://localhost:8080/"
        }
      },
      "outputs": [
        {
          "output_type": "stream",
          "name": "stdout",
          "text": [
            "Balanced accuracy: 0.79\n"
          ]
        }
      ],
      "source": [
        "logits = model.forward(adj, feat)\n",
        "y_pred = torch.argmax(logits[test_mask], 1)\n",
        "score = balanced_accuracy_score(label[test_mask], y_pred)\n",
        "assert score > 0.75\n",
        "print('Balanced accuracy: {:.2f}'.format(score))"
      ]
    },
    {
      "cell_type": "markdown",
      "metadata": {
        "id": "yzL6E9V_IEPP"
      },
      "source": [
        "### Task 2. Graph Autoencoder (3 points)"
      ]
    },
    {
      "cell_type": "markdown",
      "metadata": {
        "id": "QRIOx-61IEPQ"
      },
      "source": [
        "In the previous task, we have trained our model with supervised loss in the node classification task. One can train GNN in unsupervised fashion. To do so we can state our problem as a graph autoencoder. We will train embeddings in the way to reconstruct adjacency matrix.\n",
        "\n",
        "We will decode our adjacency matrix with `DotProductDecoder` class. A `forward` function computes dot product of node embeddings so that the result is a $n \\times n$ matrix where $n$ is the number of nodes and applies the sigmoid activation\n",
        "\n",
        "\n",
        "В предыдущей задаче мы обучили нашу модель контролируемой потерей в задаче классификации узлов. Можно обучать GNN без присмотра. Для этого мы можем сформулировать нашу задачу как автоэнкодер графа. Мы будем обучать вложения таким образом, чтобы восстанавливать матрицу смежности.\n",
        "\n",
        "Мы будем декодировать нашу матрицу смежности с помощью класса DotProductDecoder. Функция «вперед» вычисляет скалярное произведение вложений узлов, так что результатом является матрица $n \\times n$, где $n$ — количество узлов, и применяется сигмовидная активация."
      ]
    },
    {
      "cell_type": "code",
      "execution_count": null,
      "metadata": {
        "deletable": false,
        "nbgrader": {
          "cell_type": "code",
          "checksum": "4104bd3079d67b88bd5964bba6a145a7",
          "grade": false,
          "grade_id": "cell-31af15ac93053cc6",
          "locked": false,
          "schema_version": 3,
          "solution": true,
          "task": false
        },
        "id": "rJ3lV6smIEPQ"
      },
      "outputs": [],
      "source": [
        "class DotProductDecoder(nn.Module):\n",
        "    def __init__(self, dropout_rate=None):\n",
        "        super().__init__()\n",
        "        self.dropout = nn.Dropout(dropout_rate) if dropout_rate else None\n",
        "        self.activation = nn.Sigmoid()\n",
        "    \n",
        "    def forward(self, h):\n",
        "        h = self.dropout(h) if self.dropout else h\n",
        "        print(h)\n",
        "        # YOUR CODE HERE\n",
        "        h = h *h\n",
        "        print(h)\n",
        "        return h"
      ]
    },
    {
      "cell_type": "code",
      "source": [
        "round(float(pred_adj.numpy()[0, 0]), 4)"
      ],
      "metadata": {
        "colab": {
          "base_uri": "https://localhost:8080/"
        },
        "id": "aqeLxauMuS8M",
        "outputId": "6aa7b07e-1013-484f-f759-7d33d25482b8"
      },
      "execution_count": null,
      "outputs": [
        {
          "output_type": "execute_result",
          "data": {
            "text/plain": [
              "0.0"
            ]
          },
          "metadata": {},
          "execution_count": 49
        }
      ]
    },
    {
      "cell_type": "code",
      "source": [
        "j = torch.Tensor(np.arange(10).reshape(5, 2))"
      ],
      "metadata": {
        "colab": {
          "base_uri": "https://localhost:8080/"
        },
        "id": "pF9FSgKcu7PE",
        "outputId": "e45c6812-5c16-4c69-d6c6-7f69117502e2"
      },
      "execution_count": null,
      "outputs": [
        {
          "output_type": "execute_result",
          "data": {
            "text/plain": [
              "tensor([[0., 1.],\n",
              "        [2., 3.],\n",
              "        [4., 5.],\n",
              "        [6., 7.],\n",
              "        [8., 9.]])"
            ]
          },
          "metadata": {},
          "execution_count": 42
        }
      ]
    },
    {
      "cell_type": "code",
      "source": [
        "decoder = DotProductDecoder()\n",
        "pred_adj = decoder(torch.Tensor(np.arange(10).reshape(5, 2)))\n",
        "assert round(float(pred_adj.numpy()[0, 0]), 4) == 0.7311"
      ],
      "metadata": {
        "id": "zujmmv9S62Q9"
      },
      "execution_count": null,
      "outputs": []
    },
    {
      "cell_type": "markdown",
      "metadata": {
        "id": "fKWSD-s-IEPR"
      },
      "source": [
        "The class `ReconstructionLoss` computes the difference between the initial adjacency matrix and predicted adjacency matrix by cross entropy. \n",
        "\n",
        "`__init__` function stores the adjacency matrix of the graph as a dense tensor, and stores the positive weight as $(N^2 - E) / E$, where $N$ is a number of nodes and $E$ is a number of edges. It is important in a case of sparse graphs since we have highly imbalances classes: edges (positive class) and pairs of nodes with no edges (negative class).\n",
        "\n",
        "`__call__` function calculates `F.binary_cross_entropy_with_logits` using positive weight `pos_weight` between the predicted adjacency matrix and real adjacency matrix.\n",
        "\n",
        "*Hint: to obtain dense adjacency matrix, use `g.adj().to_dense()`*\n",
        "\n",
        "\n",
        "Класс ReconstructionLoss вычисляет разницу между исходной матрицей смежности и прогнозируемой матрицей смежности с помощью перекрестной энтропии.\n",
        "\n",
        "Функция `__init__` хранит матрицу смежности графа в виде плотного тензора и сохраняет положительный вес как $(N^2 - E)/E$, где $N$ — количество узлов, а $E$ — число. ребер. Это важно в случае разреженных графов, поскольку у нас есть классы с сильным дисбалансом: ребра (положительный класс) и пары узлов без ребер (отрицательный класс).\n",
        "\n",
        "Функция `__call__` вычисляет `F.binary_cross_entropy_with_logits`, используя положительный вес pos_weight между предсказанной матрицей смежности и реальной матрицей смежности.\n",
        "\n",
        "*Подсказка: чтобы получить плотную матрицу смежности, используйте `g.adj().to_dense()`*"
      ]
    },
    {
      "cell_type": "code",
      "execution_count": null,
      "metadata": {
        "deletable": false,
        "nbgrader": {
          "cell_type": "code",
          "checksum": "c4983e4aeb2e2ca974d9deb827250bda",
          "grade": false,
          "grade_id": "cell-f21ed6c1f82b2b7b",
          "locked": false,
          "schema_version": 3,
          "solution": true,
          "task": false
        },
        "id": "oCpj32BoIEPR"
      },
      "outputs": [],
      "source": [
        "class ReconstructionLoss:\n",
        "    def __init__(self, g):\n",
        "        # YOUR CODE HERE\n",
        "        raise NotImplementedError()\n",
        "    \n",
        "    def __call__(self, predicted_adjacency):\n",
        "        # YOUR CODE HERE\n",
        "        raise NotImplementedError()"
      ]
    },
    {
      "cell_type": "code",
      "execution_count": null,
      "metadata": {
        "deletable": false,
        "editable": false,
        "nbgrader": {
          "cell_type": "code",
          "checksum": "44d3ee24596d02e5d721e94a20b3af26",
          "grade": true,
          "grade_id": "cell-dc7a5b14910f1b1b",
          "locked": true,
          "points": 1,
          "schema_version": 3,
          "solution": false,
          "task": false
        },
        "id": "dukwBv_DIEPR"
      },
      "outputs": [],
      "source": [
        "n = dgl_cora.number_of_nodes()\n",
        "pred_adj = torch.zeros(n, n)\n",
        "rec_loss = ReconstructionLoss(dgl_cora)\n",
        "assert round(rec_loss(pred_adj).item(), 2) == 1.38\n",
        "pred_adj = torch.ones(n, n)\n",
        "assert round(rec_loss(pred_adj).item(), 2) == 1.62\n",
        "pred_adj = dgl_cora.adj().to_dense()\n",
        "assert round(rec_loss(pred_adj).item(), 2) == 1"
      ]
    },
    {
      "cell_type": "markdown",
      "metadata": {
        "id": "3g7ul_gRIEPS"
      },
      "source": [
        "Let us check the quality the classification on an untrained GCN model"
      ]
    },
    {
      "cell_type": "code",
      "execution_count": null,
      "metadata": {
        "id": "sqpfx0leIEPS"
      },
      "outputs": [],
      "source": [
        "from sklearn.linear_model import LogisticRegression\n",
        "model = GCN(1433, 32, 16)\n",
        "model.eval()\n",
        "X = model.forward(adj, feat).data.numpy()\n",
        "y = label.numpy()\n",
        "\n",
        "lr = LogisticRegression(max_iter=1000)\n",
        "lr.fit(X[train_mask], y[train_mask])\n",
        "\n",
        "y_true = y[test_mask]\n",
        "y_pred = lr.predict(X[test_mask])\n",
        "score = balanced_accuracy_score(y_true, y_pred)\n",
        "print('Balanced accuracy: {:.2f}'.format(score))"
      ]
    },
    {
      "cell_type": "markdown",
      "metadata": {
        "id": "XAlhMMNpIEPS"
      },
      "source": [
        "Complete the train loop so that node embeddings obtained from the GCN model are fed into the decoder, reconstruction loss of a predicted adjacency matrix is computed and then an optimization step is performed. You can also modify number of epochs, learning rate, etc.\n",
        "\n",
        "\n",
        "Завершите цикл обучения, чтобы вложения узлов, полученные из модели GCN, подавались в декодер, вычислялись потери при реконструкции прогнозируемой матрицы смежности, а затем выполнялся шаг оптимизации. Вы также можете изменить количество эпох, скорость обучения и т. д."
      ]
    },
    {
      "cell_type": "code",
      "execution_count": null,
      "metadata": {
        "deletable": false,
        "nbgrader": {
          "cell_type": "code",
          "checksum": "5fea440d59dba37d668d86c3ba21317b",
          "grade": false,
          "grade_id": "cell-ab892da4f2b04e92",
          "locked": false,
          "schema_version": 3,
          "solution": true,
          "task": false
        },
        "id": "C1x-rMkOIEPS"
      },
      "outputs": [],
      "source": [
        "n_epochs = 400\n",
        "model = GCN(1433, 32, 16)\n",
        "decoder = DotProductDecoder(dropout_rate=0.1)\n",
        "rec_loss = ReconstructionLoss(dgl_cora)\n",
        "opt = torch.optim.Adam(model.parameters(), lr=0.01)\n",
        "\n",
        "log = []\n",
        "for i in range(n_epochs):\n",
        "    \n",
        "    # YOUR CODE HERE\n",
        "    raise NotImplementedError()\n",
        "    \n",
        "    #train_loss = <YOUR CODE>\n",
        "    log.append(train_loss)\n",
        "    plt.plot(np.array(log))\n",
        "    plt.title('Epoch: {}/{}'.format(i+1, n_epochs))\n",
        "    plt.legend(['train'])\n",
        "    plt.show()\n",
        "    clear_output(wait=True)"
      ]
    },
    {
      "cell_type": "markdown",
      "metadata": {
        "id": "4iefgms8IEPT"
      },
      "source": [
        "Now we can check how unsupervised embeddings will work for the node classification task\n",
        "\n",
        "Теперь мы можем проверить, как неконтролируемые встраивания будут работать для задачи классификации узлов."
      ]
    },
    {
      "cell_type": "code",
      "execution_count": null,
      "metadata": {
        "deletable": false,
        "editable": false,
        "nbgrader": {
          "cell_type": "code",
          "checksum": "b877062593c1ae39ed18ce9b1fbc9fd7",
          "grade": true,
          "grade_id": "cell-08af8fff077a7121",
          "locked": true,
          "points": 1,
          "schema_version": 3,
          "solution": false,
          "task": false
        },
        "id": "SsXR9buNIEPT"
      },
      "outputs": [],
      "source": [
        "model.eval()\n",
        "X = model.forward(adj, feat).data.numpy()\n",
        "y = label.numpy()\n",
        "\n",
        "lr = LogisticRegression(max_iter=1000)\n",
        "lr.fit(X[train_mask], y[train_mask])\n",
        "\n",
        "y_true = y[test_mask]\n",
        "y_pred = lr.predict(X[test_mask])\n",
        "score = balanced_accuracy_score(y_true, y_pred)\n",
        "assert score >= 0.35\n",
        "print('Balanced accuracy: {:.2f}'.format(score))"
      ]
    },
    {
      "cell_type": "markdown",
      "metadata": {
        "id": "ChDspOEHIEPT"
      },
      "source": [
        "### Task 3. Graph Attention Network (3 points)"
      ]
    },
    {
      "cell_type": "markdown",
      "metadata": {
        "id": "tLDtESy7IEPT"
      },
      "source": [
        "Let us apply Graph Attention Network over an input signal.\n",
        "\n",
        "$$h_i^{(l+1)} = \\sum_{j\\in \\mathcal{N}(i)} \\alpha_{i,j} W^{(l)} h_j^{(l)}$$\n",
        "\n",
        "where $\\alpha_{ij}$ is the attention score bewteen node $i$ and node $j$:\n",
        "\n",
        "$$\\alpha_{ij}^{l} = \\text{Softmax}_{i} (e_{ij}^{l})$$\n",
        "\n",
        "$$e_{ij}^{l} = \\text{LeakyReLU}\\left(\\vec{a}^T [W h_{i} \\| W h_{j}]\\right)$$"
      ]
    },
    {
      "cell_type": "code",
      "execution_count": null,
      "metadata": {
        "id": "UozREZvaIEPT"
      },
      "outputs": [],
      "source": [
        "data = CoraGraphDataset()\n",
        "G = data[0]\n",
        "G = dgl.add_self_loop(G)\n",
        "features = G.ndata['feat']\n",
        "labels = G.ndata['label']\n",
        "train_mask = G.ndata['train_mask']\n",
        "test_mask = G.ndata['test_mask']"
      ]
    },
    {
      "cell_type": "markdown",
      "metadata": {
        "id": "CD7D90OQIEPU"
      },
      "source": [
        "Complete a class `GAT`. Use `GATConv` layers:\n",
        "`GATConv(1433, 8, num_heads=8)` $\\to$ `GATConv(8*8, 7, num_heads=1)`\n",
        "\n",
        "*Hint: use `F.elu` activation*"
      ]
    },
    {
      "cell_type": "code",
      "execution_count": null,
      "metadata": {
        "deletable": false,
        "nbgrader": {
          "cell_type": "code",
          "checksum": "cdc8345eb40be185359aeb01fff87fde",
          "grade": false,
          "grade_id": "cell-2ac8340166410ded",
          "locked": false,
          "schema_version": 3,
          "solution": true,
          "task": false
        },
        "id": "yPg9z-gSIEPU"
      },
      "outputs": [],
      "source": [
        "class GAT(nn.Module):\n",
        "    def __init__(self):\n",
        "        super(GAT, self).__init__()\n",
        "        #self.conv1 = <YOUR CODE>\n",
        "        #self.conv2 = <YOUR CODE>\n",
        "        # YOUR CODE HERE\n",
        "        raise NotImplementedError()\n",
        "\n",
        "    def forward(self, G, features):\n",
        "        # YOUR CODE HERE\n",
        "        raise NotImplementedError()"
      ]
    },
    {
      "cell_type": "code",
      "execution_count": null,
      "metadata": {
        "deletable": false,
        "editable": false,
        "nbgrader": {
          "cell_type": "code",
          "checksum": "42f7e6eb09539ea2db5cca284c757afb",
          "grade": true,
          "grade_id": "cell-8b1838d547caf32d",
          "locked": true,
          "points": 1.5,
          "schema_version": 3,
          "solution": false,
          "task": false
        },
        "id": "uWGTvlPfIEPU"
      },
      "outputs": [],
      "source": [
        "model = GAT()\n",
        "assert str(model) == 'GAT(\\n  (conv1): GATConv(\\n    (fc): Linear(in_features=1433, out_features=64, bias=False)\\n    (feat_drop): Dropout(p=0.0, inplace=False)\\n    (attn_drop): Dropout(p=0.0, inplace=False)\\n    (leaky_relu): LeakyReLU(negative_slope=0.2)\\n  )\\n  (conv2): GATConv(\\n    (fc): Linear(in_features=64, out_features=7, bias=False)\\n    (feat_drop): Dropout(p=0.0, inplace=False)\\n    (attn_drop): Dropout(p=0.0, inplace=False)\\n    (leaky_relu): LeakyReLU(negative_slope=0.2)\\n  )\\n)'\n"
      ]
    },
    {
      "cell_type": "code",
      "execution_count": null,
      "metadata": {
        "id": "ETPpKY4IIEPU"
      },
      "outputs": [],
      "source": [
        "CrossEntropy = nn.CrossEntropyLoss()\n",
        "opt = torch.optim.Adam(model.parameters(), \n",
        "                       lr=0.005, weight_decay=0.0005)"
      ]
    },
    {
      "cell_type": "markdown",
      "metadata": {
        "id": "73fhgEJtIEPV"
      },
      "source": [
        "Complete the train loop. To speed up calculation test loss, use `torch.no_grad()`"
      ]
    },
    {
      "cell_type": "code",
      "execution_count": null,
      "metadata": {
        "deletable": false,
        "nbgrader": {
          "cell_type": "code",
          "checksum": "9f88b50e0154065046c516c78b67d0bb",
          "grade": false,
          "grade_id": "cell-8d019b9371d11f59",
          "locked": false,
          "schema_version": 3,
          "solution": true,
          "task": false
        },
        "id": "uBaOG58ZIEPV"
      },
      "outputs": [],
      "source": [
        "n_epochs = 100\n",
        "\n",
        "log = []\n",
        "for i in range(n_epochs):\n",
        "    \n",
        "    # YOUR CODE HERE\n",
        "    raise NotImplementedError()\n",
        "    \n",
        "    #train_loss = <YOUR CODE>\n",
        "    #test_loss = <YOUR CODE>\n",
        "    \n",
        "    log.append([train_loss, test_loss])\n",
        "    \n",
        "    plt.plot(np.array(log))\n",
        "    plt.title('Epoch: {}/{}'.format(i+1, n_epochs))\n",
        "    plt.legend(['train', 'test'])\n",
        "    plt.show()\n",
        "    clear_output(wait=True)"
      ]
    },
    {
      "cell_type": "code",
      "execution_count": null,
      "metadata": {
        "deletable": false,
        "editable": false,
        "nbgrader": {
          "cell_type": "code",
          "checksum": "877271c101d66ff526a820195815bb78",
          "grade": true,
          "grade_id": "cell-f0b5cbfec9b4510d",
          "locked": true,
          "points": 1.5,
          "schema_version": 3,
          "solution": false,
          "task": false
        },
        "id": "nXBA8Su-IEPW"
      },
      "outputs": [],
      "source": [
        "logits = model.forward(G, features)\n",
        "y_pred = torch.argmax(logits[test_mask], 1)\n",
        "score = balanced_accuracy_score(labels[test_mask], y_pred)\n",
        "assert score > 0.7\n",
        "print('Balanced accuracy: {:.2f}'.format(score))"
      ]
    },
    {
      "cell_type": "markdown",
      "metadata": {
        "id": "TJ_R-TI-IEPX"
      },
      "source": [
        "### Task 4. GraphSAGE model (4 points)"
      ]
    },
    {
      "cell_type": "markdown",
      "metadata": {
        "id": "3HLOo1jrIEPX"
      },
      "source": [
        "Consider GraphSAGE, a representation learning technique suitable for dynamic graphs. GraphSAGE is capable of predicting embedding of a new node, without requiring a re-training procedure. To do so, GraphSAGE learns aggregator functions that can induce the embedding of a new node given its features and neighborhood. This is called inductive learning.\n",
        "\n",
        "$$h_{\\mathcal{N}(i)}^{(l+1)} = \\mathrm{aggregate}\\left(\\{h_{j}^{l}, \\forall j \\in \\mathcal{N}(i) \\}\\right)$$\n",
        "$$h_{i}^{(l+1)} = \\sigma \\left(W \\cdot \\text{concat}(h_{i}^{l}, h_{\\mathcal{N}(i)}^{l+1}) \\right)$$\n",
        "$$h_{i}^{(l+1)} = \\mathrm{norm}(h_{i}^{l})$$\n",
        "\n",
        "Aggregator types here can be `mean`, `gcn`, `pool`, `lstm`. Consider GraphSAGE on the Karate Club graph."
      ]
    },
    {
      "cell_type": "code",
      "execution_count": null,
      "metadata": {
        "id": "bY5j5JOhIEPX"
      },
      "outputs": [],
      "source": [
        "G = nx.karate_club_graph()\n",
        "\n",
        "labels = [1 if i=='Mr. Hi' else 0 for i in nx.get_node_attributes(G, 'club').values()]\n",
        "labels = torch.LongTensor(labels)\n",
        "features = torch.FloatTensor(np.arange(0, 34)[:, None])"
      ]
    },
    {
      "cell_type": "code",
      "execution_count": null,
      "metadata": {
        "id": "k_KuevCRIEPX"
      },
      "outputs": [],
      "source": [
        "nx.draw_kamada_kawai(\n",
        "    G, with_labels=True, \n",
        "    node_color=['tab:orange' if i==1 else 'tab:blue' for i in labels], \n",
        "    cmap=plt.cm.tab10)"
      ]
    },
    {
      "cell_type": "markdown",
      "metadata": {
        "id": "m4-RtD-FIEPY"
      },
      "source": [
        "Let us delete the node 31, train a model and then return it and predict its label."
      ]
    },
    {
      "cell_type": "code",
      "execution_count": null,
      "metadata": {
        "id": "WqSQQsJqIEPY"
      },
      "outputs": [],
      "source": [
        "idx = np.arange(34)\n",
        "idx = idx[idx != 31]"
      ]
    },
    {
      "cell_type": "markdown",
      "metadata": {
        "id": "MbY1XwvOIEPY"
      },
      "source": [
        "New labels and features"
      ]
    },
    {
      "cell_type": "code",
      "execution_count": null,
      "metadata": {
        "id": "MirkQjlGIEPY"
      },
      "outputs": [],
      "source": [
        "labels = labels[idx]\n",
        "features = features[idx]"
      ]
    },
    {
      "cell_type": "code",
      "execution_count": null,
      "metadata": {
        "id": "o6b0ekiQIEPY"
      },
      "outputs": [],
      "source": [
        "nx.draw_kamada_kawai(\n",
        "    G.subgraph(idx), with_labels=True, \n",
        "    node_color=['tab:orange' if i==1 else 'tab:blue' for i in labels], \n",
        "    cmap=plt.cm.tab10)"
      ]
    },
    {
      "cell_type": "markdown",
      "metadata": {
        "id": "pZbm9oxiIEPY"
      },
      "source": [
        "Let choose test and train nodes"
      ]
    },
    {
      "cell_type": "code",
      "execution_count": null,
      "metadata": {
        "id": "eE4bcsmBIEPZ"
      },
      "outputs": [],
      "source": [
        "test_idx = [31, 32, 0, 11, 13, 2, 23, 29, 8]\n",
        "train_idx = list(set(np.arange(33)).difference(test_idx))"
      ]
    },
    {
      "cell_type": "markdown",
      "metadata": {
        "id": "9l7WZt4pIEPZ"
      },
      "source": [
        "Draw the graph, test nodes are gray."
      ]
    },
    {
      "cell_type": "code",
      "execution_count": null,
      "metadata": {
        "id": "brmt67cHIEPZ"
      },
      "outputs": [],
      "source": [
        "node_color = np.ones((33, 3))\n",
        "node_color[labels == 0] = plt.cm.tab10(0)[:3]\n",
        "node_color[labels == 1] = plt.cm.tab10(1)[:3]\n",
        "node_color[test_idx] = (0.9, 0.9, 0.9)\n",
        "\n",
        "nx.draw_kamada_kawai(G.subgraph(idx), with_labels=True, \n",
        "                     node_color=node_color, cmap=plt.cm.tab10)"
      ]
    },
    {
      "cell_type": "markdown",
      "metadata": {
        "id": "mDXi9OIoIEPZ"
      },
      "source": [
        "Build a dgl graph "
      ]
    },
    {
      "cell_type": "code",
      "execution_count": null,
      "metadata": {
        "id": "Oh9gcFMuIEPZ"
      },
      "outputs": [],
      "source": [
        "initial_graph = dgl.from_networkx(G.subgraph(idx))\n",
        "initial_graph"
      ]
    },
    {
      "cell_type": "markdown",
      "metadata": {
        "id": "q5gcWZlJIEPZ"
      },
      "source": [
        "Complete a class `SAGE`. Use `SAGEConv` layers with sizes $1 \\to 16 \\to 2$ and `mean` aggregation function. Put `F.relu` activation after the first layer."
      ]
    },
    {
      "cell_type": "code",
      "execution_count": null,
      "metadata": {
        "deletable": false,
        "nbgrader": {
          "cell_type": "code",
          "checksum": "9399531298f5c0c2a65de6d6a0a15776",
          "grade": false,
          "grade_id": "cell-c83ca7ab5833bc2a",
          "locked": false,
          "schema_version": 3,
          "solution": true,
          "task": false
        },
        "id": "tMBSzUqwIEPZ"
      },
      "outputs": [],
      "source": [
        "class SAGE(nn.Module):\n",
        "    def __init__(self):\n",
        "        super().__init__()\n",
        "        #self.conv1 = <YOUR CODE>\n",
        "        #self.conv2 = <YOUR CODE>\n",
        "        # YOUR CODE HERE\n",
        "        raise NotImplementedError()\n",
        "\n",
        "    def forward(self, graph, features):\n",
        "        # YOUR CODE HERE\n",
        "        raise NotImplementedError()"
      ]
    },
    {
      "cell_type": "code",
      "execution_count": null,
      "metadata": {
        "deletable": false,
        "editable": false,
        "nbgrader": {
          "cell_type": "code",
          "checksum": "7324f456ebe940b2c3f71d704e741b82",
          "grade": true,
          "grade_id": "cell-a7513e546c544396",
          "locked": true,
          "points": 2,
          "schema_version": 3,
          "solution": false,
          "task": false
        },
        "id": "LK_Z1LiSIEPa"
      },
      "outputs": [],
      "source": [
        "model = SAGE()\n",
        "assert str(model) == 'SAGE(\\n  (conv1): SAGEConv(\\n    (feat_drop): Dropout(p=0.0, inplace=False)\\n    (fc_self): Linear(in_features=1, out_features=16, bias=False)\\n    (fc_neigh): Linear(in_features=1, out_features=16, bias=False)\\n  )\\n  (conv2): SAGEConv(\\n    (feat_drop): Dropout(p=0.0, inplace=False)\\n    (fc_self): Linear(in_features=16, out_features=2, bias=False)\\n    (fc_neigh): Linear(in_features=16, out_features=2, bias=False)\\n  )\\n)'"
      ]
    },
    {
      "cell_type": "code",
      "execution_count": null,
      "metadata": {
        "id": "Voc1Tu7iIEPa"
      },
      "outputs": [],
      "source": [
        "CrossEntropy = nn.CrossEntropyLoss()\n",
        "opt = torch.optim.Adam(model.parameters(), lr=0.002)"
      ]
    },
    {
      "cell_type": "code",
      "execution_count": null,
      "metadata": {
        "id": "EhlMOFn4IEPb"
      },
      "outputs": [],
      "source": [
        "n_epochs = 150\n",
        "\n",
        "log = []\n",
        "for i in range(n_epochs):\n",
        "    \n",
        "    logits = model.forward(initial_graph, features)\n",
        "    loss = CrossEntropy(logits[train_idx], labels[train_idx])\n",
        "    \n",
        "    opt.zero_grad()\n",
        "    loss.backward()\n",
        "    opt.step()\n",
        "    \n",
        "    with torch.no_grad():\n",
        "        logits = model.forward(initial_graph, features)\n",
        "        test_loss = CrossEntropy(logits[test_idx], labels[test_idx])\n",
        "    \n",
        "    log.append([loss.item(), test_loss.item()])\n",
        "    \n",
        "    plt.figure(figsize=(12, 5))\n",
        "    \n",
        "    plt.subplot(1, 2, 1)\n",
        "    plt.plot(np.array(log))\n",
        "    plt.title('Epoch: {}/{}'.format(i+1, n_epochs))\n",
        "    plt.legend(['train', 'test'])\n",
        "    \n",
        "    y_pred = torch.argmax(logits, 1)\n",
        "    \n",
        "    plt.subplot(1, 2, 2)\n",
        "    nx.draw_kamada_kawai(\n",
        "        G.subgraph(idx), with_labels=True, \n",
        "        node_color=['tab:orange' if i==1 else 'tab:blue' for i in y_pred], \n",
        "        cmap=plt.cm.tab10)\n",
        "    \n",
        "    \n",
        "    plt.show()\n",
        "    clear_output(wait=True)\n"
      ]
    },
    {
      "cell_type": "markdown",
      "metadata": {
        "id": "mfqgQUe6IEPb"
      },
      "source": [
        "Let us check that prediction for the node 31 is correct"
      ]
    },
    {
      "cell_type": "code",
      "execution_count": null,
      "metadata": {
        "deletable": false,
        "editable": false,
        "nbgrader": {
          "cell_type": "code",
          "checksum": "3dab650bfd86a91be05e721cd00e089e",
          "grade": true,
          "grade_id": "cell-41e44fe2c4bf18a1",
          "locked": true,
          "points": 2,
          "schema_version": 3,
          "solution": false,
          "task": false
        },
        "id": "hyQf1R_4IEPb"
      },
      "outputs": [],
      "source": [
        "graph = dgl.from_networkx(G)\n",
        "labels = [1 if i=='Mr. Hi' else 0 for i in nx.get_node_attributes(G, 'club').values()]\n",
        "labels = torch.LongTensor(labels)\n",
        "features = torch.FloatTensor(np.arange(0, 34)[:, None])\n",
        "predictions = torch.argmax(model(graph, features), 1)\n",
        "assert predictions[31] == labels[31]"
      ]
    },
    {
      "cell_type": "code",
      "execution_count": null,
      "metadata": {
        "id": "6R5NvufJIEPb"
      },
      "outputs": [],
      "source": []
    }
  ],
  "metadata": {
    "kernelspec": {
      "display_name": "Python 3",
      "language": "python",
      "name": "python3"
    },
    "language_info": {
      "codemirror_mode": {
        "name": "ipython",
        "version": 3
      },
      "file_extension": ".py",
      "mimetype": "text/x-python",
      "name": "python",
      "nbconvert_exporter": "python",
      "pygments_lexer": "ipython3",
      "version": "3.7.4"
    },
    "colab": {
      "provenance": []
    }
  },
  "nbformat": 4,
  "nbformat_minor": 0
}